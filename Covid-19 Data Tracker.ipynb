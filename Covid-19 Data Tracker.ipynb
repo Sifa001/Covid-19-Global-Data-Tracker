{
 "cells": [
  {
   "cell_type": "code",
   "execution_count": 2,
   "id": "dfb8182a-363d-49d4-8348-222e678fd1e1",
   "metadata": {},
   "outputs": [
    {
     "name": "stdout",
     "output_type": "stream",
     "text": [
      "       iso_code continent     location        date  total_cases  new_cases  \\\n",
      "0           AFG      Asia  Afghanistan  2020-01-03          NaN        0.0   \n",
      "1           AFG      Asia  Afghanistan  2020-01-04          NaN        0.0   \n",
      "2           AFG      Asia  Afghanistan  2020-01-05          NaN        0.0   \n",
      "3           AFG      Asia  Afghanistan  2020-01-06          NaN        0.0   \n",
      "4           AFG      Asia  Afghanistan  2020-01-07          NaN        0.0   \n",
      "...         ...       ...          ...         ...          ...        ...   \n",
      "350080      ZWE    Africa     Zimbabwe  2023-10-14     265808.0        0.0   \n",
      "350081      ZWE    Africa     Zimbabwe  2023-10-15     265808.0        0.0   \n",
      "350082      ZWE    Africa     Zimbabwe  2023-10-16     265808.0        0.0   \n",
      "350083      ZWE    Africa     Zimbabwe  2023-10-17     265808.0        0.0   \n",
      "350084      ZWE    Africa     Zimbabwe  2023-10-18     265808.0        0.0   \n",
      "\n",
      "        new_cases_smoothed  total_deaths  new_deaths  new_deaths_smoothed  \\\n",
      "0                      NaN           NaN         0.0                  NaN   \n",
      "1                      NaN           NaN         0.0                  NaN   \n",
      "2                      NaN           NaN         0.0                  NaN   \n",
      "3                      NaN           NaN         0.0                  NaN   \n",
      "4                      NaN           NaN         0.0                  NaN   \n",
      "...                    ...           ...         ...                  ...   \n",
      "350080               5.286        5718.0         0.0                  0.0   \n",
      "350081               5.286        5718.0         0.0                  0.0   \n",
      "350082               5.286        5718.0         0.0                  0.0   \n",
      "350083               0.000        5718.0         0.0                  0.0   \n",
      "350084               0.000        5718.0         0.0                  0.0   \n",
      "\n",
      "        ...  male_smokers  handwashing_facilities  hospital_beds_per_thousand  \\\n",
      "0       ...           NaN                  37.746                         0.5   \n",
      "1       ...           NaN                  37.746                         0.5   \n",
      "2       ...           NaN                  37.746                         0.5   \n",
      "3       ...           NaN                  37.746                         0.5   \n",
      "4       ...           NaN                  37.746                         0.5   \n",
      "...     ...           ...                     ...                         ...   \n",
      "350080  ...          30.7                  36.791                         1.7   \n",
      "350081  ...          30.7                  36.791                         1.7   \n",
      "350082  ...          30.7                  36.791                         1.7   \n",
      "350083  ...          30.7                  36.791                         1.7   \n",
      "350084  ...          30.7                  36.791                         1.7   \n",
      "\n",
      "        life_expectancy  human_development_index  population  \\\n",
      "0                 64.83                    0.511  41128772.0   \n",
      "1                 64.83                    0.511  41128772.0   \n",
      "2                 64.83                    0.511  41128772.0   \n",
      "3                 64.83                    0.511  41128772.0   \n",
      "4                 64.83                    0.511  41128772.0   \n",
      "...                 ...                      ...         ...   \n",
      "350080            61.49                    0.571  16320539.0   \n",
      "350081            61.49                    0.571  16320539.0   \n",
      "350082            61.49                    0.571  16320539.0   \n",
      "350083            61.49                    0.571  16320539.0   \n",
      "350084            61.49                    0.571  16320539.0   \n",
      "\n",
      "        excess_mortality_cumulative_absolute  excess_mortality_cumulative  \\\n",
      "0                                        NaN                          NaN   \n",
      "1                                        NaN                          NaN   \n",
      "2                                        NaN                          NaN   \n",
      "3                                        NaN                          NaN   \n",
      "4                                        NaN                          NaN   \n",
      "...                                      ...                          ...   \n",
      "350080                                   NaN                          NaN   \n",
      "350081                                   NaN                          NaN   \n",
      "350082                                   NaN                          NaN   \n",
      "350083                                   NaN                          NaN   \n",
      "350084                                   NaN                          NaN   \n",
      "\n",
      "        excess_mortality  excess_mortality_cumulative_per_million  \n",
      "0                    NaN                                      NaN  \n",
      "1                    NaN                                      NaN  \n",
      "2                    NaN                                      NaN  \n",
      "3                    NaN                                      NaN  \n",
      "4                    NaN                                      NaN  \n",
      "...                  ...                                      ...  \n",
      "350080               NaN                                      NaN  \n",
      "350081               NaN                                      NaN  \n",
      "350082               NaN                                      NaN  \n",
      "350083               NaN                                      NaN  \n",
      "350084               NaN                                      NaN  \n",
      "\n",
      "[350085 rows x 67 columns]\n"
     ]
    }
   ],
   "source": [
    "import pandas as pd\n",
    "import numpy as np\n",
    "import matplotlib.pyplot as plt\n",
    "import seaborn as sns\n",
    "from datetime import datetime\n",
    "\n",
    "# Load the dataset\n",
    "data = pd.read_csv('owid-covid-data.csv')\n",
    "print(data)\n"
   ]
  },
  {
   "cell_type": "code",
   "execution_count": 5,
   "id": "32280360-4967-4fb8-bd7c-61ec11cf4b82",
   "metadata": {
    "scrolled": true
   },
   "outputs": [
    {
     "data": {
      "text/plain": [
       "Index(['iso_code', 'continent', 'location', 'date', 'total_cases', 'new_cases',\n",
       "       'new_cases_smoothed', 'total_deaths', 'new_deaths',\n",
       "       'new_deaths_smoothed', 'total_cases_per_million',\n",
       "       'new_cases_per_million', 'new_cases_smoothed_per_million',\n",
       "       'total_deaths_per_million', 'new_deaths_per_million',\n",
       "       'new_deaths_smoothed_per_million', 'reproduction_rate', 'icu_patients',\n",
       "       'icu_patients_per_million', 'hosp_patients',\n",
       "       'hosp_patients_per_million', 'weekly_icu_admissions',\n",
       "       'weekly_icu_admissions_per_million', 'weekly_hosp_admissions',\n",
       "       'weekly_hosp_admissions_per_million', 'total_tests', 'new_tests',\n",
       "       'total_tests_per_thousand', 'new_tests_per_thousand',\n",
       "       'new_tests_smoothed', 'new_tests_smoothed_per_thousand',\n",
       "       'positive_rate', 'tests_per_case', 'tests_units', 'total_vaccinations',\n",
       "       'people_vaccinated', 'people_fully_vaccinated', 'total_boosters',\n",
       "       'new_vaccinations', 'new_vaccinations_smoothed',\n",
       "       'total_vaccinations_per_hundred', 'people_vaccinated_per_hundred',\n",
       "       'people_fully_vaccinated_per_hundred', 'total_boosters_per_hundred',\n",
       "       'new_vaccinations_smoothed_per_million',\n",
       "       'new_people_vaccinated_smoothed',\n",
       "       'new_people_vaccinated_smoothed_per_hundred', 'stringency_index',\n",
       "       'population_density', 'median_age', 'aged_65_older', 'aged_70_older',\n",
       "       'gdp_per_capita', 'extreme_poverty', 'cardiovasc_death_rate',\n",
       "       'diabetes_prevalence', 'female_smokers', 'male_smokers',\n",
       "       'handwashing_facilities', 'hospital_beds_per_thousand',\n",
       "       'life_expectancy', 'human_development_index', 'population',\n",
       "       'excess_mortality_cumulative_absolute', 'excess_mortality_cumulative',\n",
       "       'excess_mortality', 'excess_mortality_cumulative_per_million'],\n",
       "      dtype='object')"
      ]
     },
     "execution_count": 5,
     "metadata": {},
     "output_type": "execute_result"
    }
   ],
   "source": [
    "# Checking columns\n",
    "data.columns"
   ]
  },
  {
   "cell_type": "code",
   "execution_count": 6,
   "id": "54201c82-f681-4f9b-af68-78367802042f",
   "metadata": {},
   "outputs": [
    {
     "data": {
      "text/html": [
       "<div>\n",
       "<style scoped>\n",
       "    .dataframe tbody tr th:only-of-type {\n",
       "        vertical-align: middle;\n",
       "    }\n",
       "\n",
       "    .dataframe tbody tr th {\n",
       "        vertical-align: top;\n",
       "    }\n",
       "\n",
       "    .dataframe thead th {\n",
       "        text-align: right;\n",
       "    }\n",
       "</style>\n",
       "<table border=\"1\" class=\"dataframe\">\n",
       "  <thead>\n",
       "    <tr style=\"text-align: right;\">\n",
       "      <th></th>\n",
       "      <th>iso_code</th>\n",
       "      <th>continent</th>\n",
       "      <th>location</th>\n",
       "      <th>date</th>\n",
       "      <th>total_cases</th>\n",
       "      <th>new_cases</th>\n",
       "      <th>new_cases_smoothed</th>\n",
       "      <th>total_deaths</th>\n",
       "      <th>new_deaths</th>\n",
       "      <th>new_deaths_smoothed</th>\n",
       "      <th>...</th>\n",
       "      <th>male_smokers</th>\n",
       "      <th>handwashing_facilities</th>\n",
       "      <th>hospital_beds_per_thousand</th>\n",
       "      <th>life_expectancy</th>\n",
       "      <th>human_development_index</th>\n",
       "      <th>population</th>\n",
       "      <th>excess_mortality_cumulative_absolute</th>\n",
       "      <th>excess_mortality_cumulative</th>\n",
       "      <th>excess_mortality</th>\n",
       "      <th>excess_mortality_cumulative_per_million</th>\n",
       "    </tr>\n",
       "  </thead>\n",
       "  <tbody>\n",
       "    <tr>\n",
       "      <th>0</th>\n",
       "      <td>AFG</td>\n",
       "      <td>Asia</td>\n",
       "      <td>Afghanistan</td>\n",
       "      <td>2020-01-03</td>\n",
       "      <td>NaN</td>\n",
       "      <td>0.0</td>\n",
       "      <td>NaN</td>\n",
       "      <td>NaN</td>\n",
       "      <td>0.0</td>\n",
       "      <td>NaN</td>\n",
       "      <td>...</td>\n",
       "      <td>NaN</td>\n",
       "      <td>37.746</td>\n",
       "      <td>0.5</td>\n",
       "      <td>64.83</td>\n",
       "      <td>0.511</td>\n",
       "      <td>41128772.0</td>\n",
       "      <td>NaN</td>\n",
       "      <td>NaN</td>\n",
       "      <td>NaN</td>\n",
       "      <td>NaN</td>\n",
       "    </tr>\n",
       "    <tr>\n",
       "      <th>1</th>\n",
       "      <td>AFG</td>\n",
       "      <td>Asia</td>\n",
       "      <td>Afghanistan</td>\n",
       "      <td>2020-01-04</td>\n",
       "      <td>NaN</td>\n",
       "      <td>0.0</td>\n",
       "      <td>NaN</td>\n",
       "      <td>NaN</td>\n",
       "      <td>0.0</td>\n",
       "      <td>NaN</td>\n",
       "      <td>...</td>\n",
       "      <td>NaN</td>\n",
       "      <td>37.746</td>\n",
       "      <td>0.5</td>\n",
       "      <td>64.83</td>\n",
       "      <td>0.511</td>\n",
       "      <td>41128772.0</td>\n",
       "      <td>NaN</td>\n",
       "      <td>NaN</td>\n",
       "      <td>NaN</td>\n",
       "      <td>NaN</td>\n",
       "    </tr>\n",
       "    <tr>\n",
       "      <th>2</th>\n",
       "      <td>AFG</td>\n",
       "      <td>Asia</td>\n",
       "      <td>Afghanistan</td>\n",
       "      <td>2020-01-05</td>\n",
       "      <td>NaN</td>\n",
       "      <td>0.0</td>\n",
       "      <td>NaN</td>\n",
       "      <td>NaN</td>\n",
       "      <td>0.0</td>\n",
       "      <td>NaN</td>\n",
       "      <td>...</td>\n",
       "      <td>NaN</td>\n",
       "      <td>37.746</td>\n",
       "      <td>0.5</td>\n",
       "      <td>64.83</td>\n",
       "      <td>0.511</td>\n",
       "      <td>41128772.0</td>\n",
       "      <td>NaN</td>\n",
       "      <td>NaN</td>\n",
       "      <td>NaN</td>\n",
       "      <td>NaN</td>\n",
       "    </tr>\n",
       "    <tr>\n",
       "      <th>3</th>\n",
       "      <td>AFG</td>\n",
       "      <td>Asia</td>\n",
       "      <td>Afghanistan</td>\n",
       "      <td>2020-01-06</td>\n",
       "      <td>NaN</td>\n",
       "      <td>0.0</td>\n",
       "      <td>NaN</td>\n",
       "      <td>NaN</td>\n",
       "      <td>0.0</td>\n",
       "      <td>NaN</td>\n",
       "      <td>...</td>\n",
       "      <td>NaN</td>\n",
       "      <td>37.746</td>\n",
       "      <td>0.5</td>\n",
       "      <td>64.83</td>\n",
       "      <td>0.511</td>\n",
       "      <td>41128772.0</td>\n",
       "      <td>NaN</td>\n",
       "      <td>NaN</td>\n",
       "      <td>NaN</td>\n",
       "      <td>NaN</td>\n",
       "    </tr>\n",
       "    <tr>\n",
       "      <th>4</th>\n",
       "      <td>AFG</td>\n",
       "      <td>Asia</td>\n",
       "      <td>Afghanistan</td>\n",
       "      <td>2020-01-07</td>\n",
       "      <td>NaN</td>\n",
       "      <td>0.0</td>\n",
       "      <td>NaN</td>\n",
       "      <td>NaN</td>\n",
       "      <td>0.0</td>\n",
       "      <td>NaN</td>\n",
       "      <td>...</td>\n",
       "      <td>NaN</td>\n",
       "      <td>37.746</td>\n",
       "      <td>0.5</td>\n",
       "      <td>64.83</td>\n",
       "      <td>0.511</td>\n",
       "      <td>41128772.0</td>\n",
       "      <td>NaN</td>\n",
       "      <td>NaN</td>\n",
       "      <td>NaN</td>\n",
       "      <td>NaN</td>\n",
       "    </tr>\n",
       "  </tbody>\n",
       "</table>\n",
       "<p>5 rows × 67 columns</p>\n",
       "</div>"
      ],
      "text/plain": [
       "  iso_code continent     location        date  total_cases  new_cases  \\\n",
       "0      AFG      Asia  Afghanistan  2020-01-03          NaN        0.0   \n",
       "1      AFG      Asia  Afghanistan  2020-01-04          NaN        0.0   \n",
       "2      AFG      Asia  Afghanistan  2020-01-05          NaN        0.0   \n",
       "3      AFG      Asia  Afghanistan  2020-01-06          NaN        0.0   \n",
       "4      AFG      Asia  Afghanistan  2020-01-07          NaN        0.0   \n",
       "\n",
       "   new_cases_smoothed  total_deaths  new_deaths  new_deaths_smoothed  ...  \\\n",
       "0                 NaN           NaN         0.0                  NaN  ...   \n",
       "1                 NaN           NaN         0.0                  NaN  ...   \n",
       "2                 NaN           NaN         0.0                  NaN  ...   \n",
       "3                 NaN           NaN         0.0                  NaN  ...   \n",
       "4                 NaN           NaN         0.0                  NaN  ...   \n",
       "\n",
       "   male_smokers  handwashing_facilities  hospital_beds_per_thousand  \\\n",
       "0           NaN                  37.746                         0.5   \n",
       "1           NaN                  37.746                         0.5   \n",
       "2           NaN                  37.746                         0.5   \n",
       "3           NaN                  37.746                         0.5   \n",
       "4           NaN                  37.746                         0.5   \n",
       "\n",
       "   life_expectancy  human_development_index  population  \\\n",
       "0            64.83                    0.511  41128772.0   \n",
       "1            64.83                    0.511  41128772.0   \n",
       "2            64.83                    0.511  41128772.0   \n",
       "3            64.83                    0.511  41128772.0   \n",
       "4            64.83                    0.511  41128772.0   \n",
       "\n",
       "   excess_mortality_cumulative_absolute  excess_mortality_cumulative  \\\n",
       "0                                   NaN                          NaN   \n",
       "1                                   NaN                          NaN   \n",
       "2                                   NaN                          NaN   \n",
       "3                                   NaN                          NaN   \n",
       "4                                   NaN                          NaN   \n",
       "\n",
       "   excess_mortality  excess_mortality_cumulative_per_million  \n",
       "0               NaN                                      NaN  \n",
       "1               NaN                                      NaN  \n",
       "2               NaN                                      NaN  \n",
       "3               NaN                                      NaN  \n",
       "4               NaN                                      NaN  \n",
       "\n",
       "[5 rows x 67 columns]"
      ]
     },
     "execution_count": 6,
     "metadata": {},
     "output_type": "execute_result"
    }
   ],
   "source": [
    "# Checking rows\n",
    "data.head()"
   ]
  },
  {
   "cell_type": "code",
   "execution_count": 7,
   "id": "8089ff12-d72c-4bb6-90ee-03aef90ca641",
   "metadata": {},
   "outputs": [
    {
     "data": {
      "text/plain": [
       "iso_code                                        0\n",
       "continent                                   16665\n",
       "location                                        0\n",
       "date                                            0\n",
       "total_cases                                 37997\n",
       "                                            ...  \n",
       "population                                      0\n",
       "excess_mortality_cumulative_absolute       337901\n",
       "excess_mortality_cumulative                337901\n",
       "excess_mortality                           337901\n",
       "excess_mortality_cumulative_per_million    337901\n",
       "Length: 67, dtype: int64"
      ]
     },
     "execution_count": 7,
     "metadata": {},
     "output_type": "execute_result"
    }
   ],
   "source": [
    "# Identify missing values\n",
    "data.isnull().sum()"
   ]
  },
  {
   "cell_type": "code",
   "execution_count": 8,
   "id": "c0565c69-a012-46c2-af9e-bc3e6a6eb38d",
   "metadata": {},
   "outputs": [
    {
     "name": "stdout",
     "output_type": "stream",
     "text": [
      "              date     location continent  total_cases  new_cases  \\\n",
      "0       2020-01-03  Afghanistan      Asia          NaN        0.0   \n",
      "1       2020-01-04  Afghanistan      Asia          NaN        0.0   \n",
      "2       2020-01-05  Afghanistan      Asia          NaN        0.0   \n",
      "3       2020-01-06  Afghanistan      Asia          NaN        0.0   \n",
      "4       2020-01-07  Afghanistan      Asia          NaN        0.0   \n",
      "...            ...          ...       ...          ...        ...   \n",
      "350080  2023-10-14     Zimbabwe    Africa     265808.0        0.0   \n",
      "350081  2023-10-15     Zimbabwe    Africa     265808.0        0.0   \n",
      "350082  2023-10-16     Zimbabwe    Africa     265808.0        0.0   \n",
      "350083  2023-10-17     Zimbabwe    Africa     265808.0        0.0   \n",
      "350084  2023-10-18     Zimbabwe    Africa     265808.0        0.0   \n",
      "\n",
      "        total_deaths  new_deaths  total_vaccinations  people_vaccinated  \\\n",
      "0                NaN         0.0                 NaN                NaN   \n",
      "1                NaN         0.0                 NaN                NaN   \n",
      "2                NaN         0.0                 NaN                NaN   \n",
      "3                NaN         0.0                 NaN                NaN   \n",
      "4                NaN         0.0                 NaN                NaN   \n",
      "...              ...         ...                 ...                ...   \n",
      "350080        5718.0         0.0                 NaN                NaN   \n",
      "350081        5718.0         0.0                 NaN                NaN   \n",
      "350082        5718.0         0.0                 NaN                NaN   \n",
      "350083        5718.0         0.0                 NaN                NaN   \n",
      "350084        5718.0         0.0                 NaN                NaN   \n",
      "\n",
      "        people_fully_vaccinated  population  life_expectancy  gdp_per_capita  \n",
      "0                           NaN  41128772.0            64.83        1803.987  \n",
      "1                           NaN  41128772.0            64.83        1803.987  \n",
      "2                           NaN  41128772.0            64.83        1803.987  \n",
      "3                           NaN  41128772.0            64.83        1803.987  \n",
      "4                           NaN  41128772.0            64.83        1803.987  \n",
      "...                         ...         ...              ...             ...  \n",
      "350080                      NaN  16320539.0            61.49        1899.775  \n",
      "350081                      NaN  16320539.0            61.49        1899.775  \n",
      "350082                      NaN  16320539.0            61.49        1899.775  \n",
      "350083                      NaN  16320539.0            61.49        1899.775  \n",
      "350084                      NaN  16320539.0            61.49        1899.775  \n",
      "\n",
      "[350085 rows x 13 columns]\n"
     ]
    }
   ],
   "source": [
    "# Select key columns for analysis\n",
    "key_columns = ['date', 'location', 'continent', 'total_cases', 'new_cases',\n",
    "               'total_deaths', 'new_deaths', 'total_vaccinations', \n",
    "               'people_vaccinated', 'people_fully_vaccinated',\n",
    "               'population', 'life_expectancy', 'gdp_per_capita']\n",
    "data = data[key_columns]\n",
    "print(data)"
   ]
  },
  {
   "cell_type": "code",
   "execution_count": 9,
   "id": "35b201ac-eebe-4750-a9cc-8ec0c7159104",
   "metadata": {},
   "outputs": [
    {
     "name": "stdout",
     "output_type": "stream",
     "text": [
      "              date     location continent  total_cases  new_cases  \\\n",
      "0       2020-01-03  Afghanistan      Asia          NaN        0.0   \n",
      "1       2020-01-04  Afghanistan      Asia          NaN        0.0   \n",
      "2       2020-01-05  Afghanistan      Asia          NaN        0.0   \n",
      "3       2020-01-06  Afghanistan      Asia          NaN        0.0   \n",
      "4       2020-01-07  Afghanistan      Asia          NaN        0.0   \n",
      "...            ...          ...       ...          ...        ...   \n",
      "350080  2023-10-14     Zimbabwe    Africa     265808.0        0.0   \n",
      "350081  2023-10-15     Zimbabwe    Africa     265808.0        0.0   \n",
      "350082  2023-10-16     Zimbabwe    Africa     265808.0        0.0   \n",
      "350083  2023-10-17     Zimbabwe    Africa     265808.0        0.0   \n",
      "350084  2023-10-18     Zimbabwe    Africa     265808.0        0.0   \n",
      "\n",
      "        total_deaths  new_deaths  total_vaccinations  people_vaccinated  \\\n",
      "0                NaN         0.0                 NaN                NaN   \n",
      "1                NaN         0.0                 NaN                NaN   \n",
      "2                NaN         0.0                 NaN                NaN   \n",
      "3                NaN         0.0                 NaN                NaN   \n",
      "4                NaN         0.0                 NaN                NaN   \n",
      "...              ...         ...                 ...                ...   \n",
      "350080        5718.0         0.0                 NaN                NaN   \n",
      "350081        5718.0         0.0                 NaN                NaN   \n",
      "350082        5718.0         0.0                 NaN                NaN   \n",
      "350083        5718.0         0.0                 NaN                NaN   \n",
      "350084        5718.0         0.0                 NaN                NaN   \n",
      "\n",
      "        people_fully_vaccinated  population  life_expectancy  gdp_per_capita  \n",
      "0                           NaN  41128772.0            64.83        1803.987  \n",
      "1                           NaN  41128772.0            64.83        1803.987  \n",
      "2                           NaN  41128772.0            64.83        1803.987  \n",
      "3                           NaN  41128772.0            64.83        1803.987  \n",
      "4                           NaN  41128772.0            64.83        1803.987  \n",
      "...                         ...         ...              ...             ...  \n",
      "350080                      NaN  16320539.0            61.49        1899.775  \n",
      "350081                      NaN  16320539.0            61.49        1899.775  \n",
      "350082                      NaN  16320539.0            61.49        1899.775  \n",
      "350083                      NaN  16320539.0            61.49        1899.775  \n",
      "350084                      NaN  16320539.0            61.49        1899.775  \n",
      "\n",
      "[338975 rows x 13 columns]\n"
     ]
    }
   ],
   "source": [
    "# Filter for countries (remove continent aggregates)\n",
    "countries_to_remove = ['World', 'European Union', 'Asia', 'Europe', 'Africa', \n",
    "                      'North America', 'South America', 'Oceania']\n",
    "data = data[~data['location'].isin(countries_to_remove)]\n",
    "print(data)\n"
   ]
  },
  {
   "cell_type": "code",
   "execution_count": 10,
   "id": "a7bbe035-0629-4eb6-b252-6c9902283739",
   "metadata": {},
   "outputs": [],
   "source": [
    "# Convert date column to datetime\n",
    "data['date'] = pd.to_datetime(data['date'])"
   ]
  },
  {
   "cell_type": "code",
   "execution_count": 11,
   "id": "c42774b9-9609-429f-a588-557f9f55c40c",
   "metadata": {},
   "outputs": [],
   "source": [
    "# Handle missing values - forward fill for time series data\n",
    "data = data.sort_values(['location', 'date'])\n",
    "data = data.groupby('location').apply(lambda x: x.ffill())\n"
   ]
  },
  {
   "cell_type": "code",
   "execution_count": 14,
   "id": "f06abebb-6c87-4acd-aab5-ab194cd8ffac",
   "metadata": {},
   "outputs": [
    {
     "name": "stdout",
     "output_type": "stream",
     "text": [
      "              location       date continent  total_cases  new_cases  \\\n",
      "0          Afghanistan 2023-10-18      Asia     226816.0        0.0   \n",
      "1              Albania 2023-10-18    Europe     334090.0        0.0   \n",
      "2              Algeria 2023-10-18    Africa     271945.0        0.0   \n",
      "3       American Samoa 2023-10-18   Oceania       8359.0        0.0   \n",
      "4              Andorra 2023-10-18    Europe      48015.0        0.0   \n",
      "..                 ...        ...       ...          ...        ...   \n",
      "242  Wallis and Futuna 2023-10-18   Oceania       3550.0        0.0   \n",
      "243     Western Sahara 2022-04-20    Africa          NaN        NaN   \n",
      "244              Yemen 2023-10-18      Asia      11945.0        0.0   \n",
      "245             Zambia 2023-10-18    Africa     349287.0        0.0   \n",
      "246           Zimbabwe 2023-10-18    Africa     265808.0        0.0   \n",
      "\n",
      "     total_deaths  new_deaths  total_vaccinations  people_vaccinated  \\\n",
      "0          7952.0         0.0          21763331.0         18293462.0   \n",
      "1          3604.0         0.0           3087677.0          1349150.0   \n",
      "2          6881.0         0.0          15267442.0          7840131.0   \n",
      "3            34.0         0.0                 NaN                NaN   \n",
      "4           159.0         0.0            157062.0            57912.0   \n",
      "..            ...         ...                 ...                ...   \n",
      "242           8.0         0.0             18058.0             7150.0   \n",
      "243           NaN         NaN                 NaN                NaN   \n",
      "244        2159.0         0.0           1287688.0          1041596.0   \n",
      "245        4069.0         0.0          13454213.0         11711565.0   \n",
      "246        5718.0         0.0          12222754.0          6437808.0   \n",
      "\n",
      "     people_fully_vaccinated  population  life_expectancy  gdp_per_capita  \n",
      "0                 17515354.0  41128772.0            64.83        1803.987  \n",
      "1                  1279231.0   2842318.0            78.57       11803.431  \n",
      "2                  6481186.0  44903228.0            76.88       13913.839  \n",
      "3                        NaN     44295.0            73.74             NaN  \n",
      "4                    53501.0     79843.0            83.73             NaN  \n",
      "..                       ...         ...              ...             ...  \n",
      "242                   6803.0     11596.0            79.94             NaN  \n",
      "243                      NaN    576005.0            70.26             NaN  \n",
      "244                 798451.0  33696612.0            66.12        1479.147  \n",
      "245                9213802.0  20017670.0            63.89        3689.251  \n",
      "246                4751270.0  16320539.0            61.49        1899.775  \n",
      "\n",
      "[247 rows x 13 columns]\n"
     ]
    }
   ],
   "source": [
    "# Get the most recent data for each country\n",
    "data = data.reset_index(drop=True)\n",
    "latest_data = data.sort_values('date').groupby('location').last().reset_index()\n",
    "print(latest_data)\n"
   ]
  },
  {
   "cell_type": "code",
   "execution_count": 15,
   "id": "239ef6da-9366-47b9-a930-51e08bc4b3f9",
   "metadata": {},
   "outputs": [
    {
     "data": {
      "image/png": "[encoded data removed]",
      "text/plain": [
       "<Figure size 1400x600 with 1 Axes>"
      ]
     },
     "metadata": {},
     "output_type": "display_data"
    }
   ],
   "source": [
    "# Aggregate global cases by date\n",
    "global_cases = data.groupby('date')[['new_cases', 'new_deaths']].sum().reset_index()\n",
    "\n",
    "plt.figure(figsize=(14, 6))\n",
    "plt.plot(global_cases['date'], global_cases['new_cases'], label='New Cases')\n",
    "plt.plot(global_cases['date'], global_cases['new_deaths'], label='New Deaths', color='red')\n",
    "plt.title('Global Daily New COVID-19 Cases and Deaths')\n",
    "plt.xlabel('Date')\n",
    "plt.ylabel('Count')\n",
    "plt.legend()\n",
    "plt.grid(True)\n",
    "plt.show()"
   ]
  },
  {
   "cell_type": "code",
   "execution_count": 16,
   "id": "c252f092-08b7-4427-9c14-4cc45aefcc2d",
   "metadata": {},
   "outputs": [
    {
     "data": {
      "image/png": "[encoded data removed]",
      "text/plain": [
       "<Figure size 1200x600 with 1 Axes>"
      ]
     },
     "metadata": {},
     "output_type": "display_data"
    }
   ],
   "source": [
    "# Top 10 countries by Total Cases\n",
    "top_countries = latest_data.sort_values('total_cases', ascending=False).head(10)\n",
    "\n",
    "plt.figure(figsize=(12, 6))\n",
    "sns.barplot(x='total_cases', y='location', data=top_countries, palette='viridis')\n",
    "plt.title('Top 10 Countries by Total COVID-19 Cases')\n",
    "plt.xlabel('Total Cases')\n",
    "plt.ylabel('Country')\n",
    "plt.show()"
   ]
  },
  {
   "cell_type": "code",
   "execution_count": 18,
   "id": "861afad2-22f5-4ef5-9053-fac64f4c8df4",
   "metadata": {},
   "outputs": [],
   "source": [
    "latest_data = latest_data.copy()\n",
    "latest_data = latest_data[(latest_data['total_cases'] > 0) & (latest_data['total_deaths'].notna())]\n",
    "latest_data['case_fatality_rate'] = (latest_data['total_deaths'] / latest_data['total_cases']) * 100\n"
   ]
  },
  {
   "cell_type": "code",
   "execution_count": 19,
   "id": "c8dc0b5a-8916-42b9-8cf8-e27d74ee4a3b",
   "metadata": {},
   "outputs": [
    {
     "data": {
      "image/png": "[encoded data removed]",
      "text/plain": [
       "<Figure size 1200x600 with 1 Axes>"
      ]
     },
     "metadata": {},
     "output_type": "display_data"
    }
   ],
   "source": [
    "# Countries with at least 1,000 cases\n",
    "cfr_data = latest_data[latest_data['total_cases'] > 1000].sort_values('case_fatality_rate', ascending=False).head(10)\n",
    "\n",
    "plt.figure(figsize=(12, 6))\n",
    "sns.barplot(x='case_fatality_rate', y='location', data=cfr_data, palette='magma')\n",
    "plt.title('Top 10 Countries by Case Fatality Rate (min 1,000 cases)')\n",
    "plt.xlabel('Case Fatality Rate (%)')\n",
    "plt.ylabel('Country')\n",
    "plt.tight_layout()\n",
    "plt.show()\n"
   ]
  },
  {
   "cell_type": "code",
   "execution_count": 22,
   "id": "b40f18e1-697a-4a35-b267-df6e9aed4b9a",
   "metadata": {},
   "outputs": [
    {
     "data": {
      "image/png": "[encoded data removed]",
      "text/plain": [
       "<Figure size 1400x700 with 1 Axes>"
      ]
     },
     "metadata": {},
     "output_type": "display_data"
    }
   ],
   "source": [
    "# Top 5 countries by vaccination rate\n",
    "top_vaccinated = latest_data.sort_values('people_fully_vaccinated', ascending=False).head(5)['location'].tolist()\n",
    "\n",
    "vaccine_progress = data[data['location'].isin(top_vaccinated)]\n",
    "\n",
    "plt.figure(figsize=(14, 7))\n",
    "for country in top_vaccinated:\n",
    "    country_data = vaccine_progress[vaccine_progress['location'] == country]\n",
    "    plt.plot(country_data['date'], country_data['people_fully_vaccinated'], label=country)\n",
    "\n",
    "plt.title('Percentage of Population Fully Vaccinated Over Time')\n",
    "plt.xlabel('Date')\n",
    "plt.ylabel('Percentage Fully Vaccinated')\n",
    "plt.legend()\n",
    "plt.grid(True)\n",
    "plt.show()"
   ]
  },
  {
   "cell_type": "code",
   "execution_count": 25,
   "id": "16e084fb-6338-43c4-b599-54ea24a80b33",
   "metadata": {},
   "outputs": [
    {
     "data": {
      "application/vnd.plotly.v1+json": {
       "config": {
        "plotlyServerURL": "https://plot.ly"
       },
       "data": [
        {
         "coloraxis": "coloraxis",
         "customdata": [
          [
           7952,
           17515354
          ],
          [
           3604,
           1279231
          ],
          [
           6881,
           6481186
          ],
          [
           34,
           null
          ],
          [
           159,
           53501
          ],
          [
           1936,
           9472763
          ],
          [
           12,
           10380
          ],
          [
           146,
           62384
          ],
          [
           130472,
           34897769
          ],
          [
           8762,
           998071
          ],
          [
           292,
           84344
          ],
          [
           23188,
           21648824
          ],
          [
           22534,
           6683263
          ],
          [
           10337,
           4862494
          ],
          [
           844,
           166972
          ],
          [
           1536,
           1226796
          ],
          [
           29477,
           142193276
          ],
          [
           620,
           155036
          ],
          [
           7118,
           6355954
          ],
          [
           34339,
           9169717
          ],
          [
           688,
           221402
          ],
          [
           163,
           2742837
          ],
          [
           165,
           47657
          ],
          [
           21,
           677669
          ],
          [
           22404,
           6160585
          ],
          [
           41,
           16736
          ],
          [
           16357,
           846080
          ],
          [
           2800,
           1663490
          ],
          [
           704659,
           176164186
          ],
          [
           64,
           18261
          ],
          [
           163,
           446714
          ],
          [
           38414,
           2077932
          ],
          [
           396,
           5232347
          ],
          [
           15,
           36321
          ],
          [
           3056,
           14683075
          ],
          [
           1974,
           3173644
          ],
          [
           53297,
           31762130
          ],
          [
           415,
           308720
          ],
          [
           37,
           60664
          ],
          [
           113,
           2484985
          ],
          [
           194,
           6127422
          ],
          [
           61607,
           17700117
          ],
          [
           121742,
           1276760000
          ],
          [
           142942,
           37019801
          ],
          [
           160,
           397080
          ],
          [
           389,
           654119
          ],
          [
           2,
           14728
          ],
          [
           9428,
           4358863
          ],
          [
           835,
           12164304
          ],
          [
           18374,
           2251725
          ],
          [
           8530,
           10031911
          ],
          [
           305,
           100885
          ],
          [
           1364,
           646142
          ],
          [
           42884,
           6893366
          ],
          [
           1468,
           14399520
          ],
          [
           8824,
           4716840
          ],
          [
           189,
           401208
          ],
          [
           74,
           30659
          ],
          [
           4384,
           6114473
          ],
          [
           36043,
           14240587
          ],
          [
           24830,
           42337175
          ],
          [
           4230,
           4344286
          ],
          [
           183,
           214032
          ],
          [
           103,
           null
          ],
          [
           2902,
           861851
          ],
          [
           1427,
           427335
          ],
          [
           7574,
           43653006
          ],
          [
           28,
           40895
          ],
          [
           885,
           641194
          ],
          [
           10321,
           4347780
          ],
          [
           167985,
           53192478
          ],
          [
           413,
           null
          ],
          [
           649,
           186803
          ],
          [
           307,
           257471
          ],
          [
           372,
           539186
          ],
          [
           17132,
           1276173
          ],
          [
           174979,
           63563414
          ],
          [
           1462,
           10780003
          ],
          [
           113,
           41465
          ],
          [
           37572,
           7646615
          ],
          [
           21,
           38511
          ],
          [
           238,
           39034
          ],
          [
           1021,
           null
          ],
          [
           417,
           null
          ],
          [
           20235,
           7126305
          ],
          [
           67,
           52710
          ],
          [
           468,
           4725982
          ],
          [
           177,
           533741
          ],
          [
           1299,
           381984
          ],
          [
           860,
           350403
          ],
          [
           2914272,
           929160112
          ],
          [
           11127,
           5853689
          ],
          [
           48815,
           6207249
          ],
          [
           186,
           290193
          ],
          [
           532037,
           951985948
          ],
          [
           161918,
           174893201
          ],
          [
           146480,
           58582625
          ],
          [
           25375,
           7944775
          ],
          [
           9251,
           4063175
          ],
          [
           116,
           67106
          ],
          [
           12697,
           6159825
          ],
          [
           192013,
           47949615
          ],
          [
           3610,
           760132
          ],
          [
           74694,
           103380343
          ],
          [
           161,
           81882
          ],
          [
           14122,
           4558313
          ],
          [
           19072,
           10629063
          ],
          [
           5689,
           11090440
          ],
          [
           24,
           81474
          ],
          [
           3211,
           825082
          ],
          [
           2570,
           3346114
          ],
          [
           1024,
           1406016
          ],
          [
           671,
           5222417
          ],
          [
           7384,
           1305976
          ],
          [
           10947,
           2414223
          ],
          [
           709,
           938088
          ],
          [
           294,
           3730967
          ],
          [
           6437,
           1236102
          ],
          [
           87,
           null
          ],
          [
           9718,
           1880665
          ],
          [
           47995,
           203953653
          ],
          [
           1339160,
           2049732903
          ],
          [
           1000,
           462702
          ],
          [
           1425,
           2628849
          ],
          [
           2686,
           4223762
          ],
          [
           37195,
           27529147
          ],
          [
           316,
           385167
          ],
          [
           743,
           3633589
          ],
          [
           882,
           471537
          ],
          [
           17,
           null
          ],
          [
           1104,
           null
          ],
          [
           997,
           1540533
          ],
          [
           1054,
           1088142
          ],
          [
           187,
           null
          ],
          [
           334699,
           81849962
          ],
          [
           65,
           null
          ],
          [
           12128,
           1078747
          ],
          [
           67,
           25667
          ],
          [
           2284,
           2175617
          ],
          [
           2654,
           284869
          ],
          [
           8,
           1952
          ],
          [
           16297,
           23521989
          ],
          [
           2249,
           21329745
          ],
          [
           19494,
           35196377
          ],
          [
           4100,
           550656
          ],
          [
           1,
           11346
          ],
          [
           12031,
           24389063
          ],
          [
           22986,
           11782254
          ],
          [
           314,
           184816
          ],
          [
           3376,
           4182631
          ],
          [
           245,
           6117158
          ],
          [
           315,
           5483001
          ],
          [
           3155,
           79729922
          ],
          [
           9946,
           838181
          ],
          [
           41,
           null
          ],
          [
           5732,
           4054726
          ],
          [
           4628,
           3048826
          ],
          [
           30656,
           140475871
          ],
          [
           9,
           null
          ],
          [
           5708,
           1776973
          ],
          [
           8654,
           3174155
          ],
          [
           670,
           321192
          ],
          [
           19978,
           3546685
          ],
          [
           221704,
           28699383
          ],
          [
           66702,
           78443972
          ],
          [
           119655,
           22649260
          ],
          [
           27424,
           8906354
          ],
          [
           5938,
           null
          ],
          [
           690,
           2852178
          ],
          [
           921,
           null
          ],
          [
           68409,
           8114769
          ],
          [
           400102,
           79702396
          ],
          [
           1468,
           10399665
          ],
          [
           5,
           null
          ],
          [
           46,
           27000
          ],
          [
           410,
           54971
          ],
          [
           46,
           null
          ],
          [
           2,
           null
          ],
          [
           124,
           31632
          ],
          [
           31,
           177954
          ],
          [
           126,
           23633
          ],
          [
           80,
           111986
          ],
          [
           9646,
           25433941
          ],
          [
           1971,
           1503332
          ],
          [
           18057,
           3278198
          ],
          [
           172,
           83565
          ],
          [
           125,
           4961886
          ],
          [
           1872,
           5120969
          ],
          [
           92,
           26773
          ],
          [
           21167,
           2577827
          ],
          [
           9448,
           1222225
          ],
          [
           153,
           254352
          ],
          [
           1361,
           7666835
          ],
          [
           102595,
           21038797
          ],
          [
           35934,
           44372679
          ],
          [
           138,
           4245286
          ],
          [
           121852,
           40739123
          ],
          [
           16882,
           14752827
          ],
          [
           5046,
           13416394
          ],
          [
           1408,
           237879
          ],
          [
           24902,
           7593676
          ],
          [
           14065,
           null
          ],
          [
           3163,
           2358365
          ],
          [
           125,
           5191919
          ],
          [
           846,
           32165791
          ],
          [
           34482,
           53486086
          ],
          [
           138,
           799627
          ],
          [
           290,
           1554066
          ],
          [
           12,
           77360
          ],
          [
           4390,
           716898
          ],
          [
           29423,
           6401841
          ],
          [
           101419,
           53176961
          ],
          [
           39,
           30710
          ],
          [
           1,
           9505
          ],
          [
           3632,
           13061126
          ],
          [
           109918,
           15153577
          ],
          [
           2349,
           9792266
          ],
          [
           230383,
           50762968
          ],
          [
           1136920,
           230637348
          ],
          [
           132,
           null
          ],
          [
           2666760,
           1990292859
          ],
          [
           7634,
           2903059
          ],
          [
           1016,
           18438157
          ],
          [
           14,
           162250
          ],
          [
           5856,
           14966671
          ],
          [
           43206,
           85961564
          ],
          [
           8,
           6803
          ],
          [
           2159,
           798451
          ],
          [
           4069,
           9213802
          ],
          [
           5718,
           4751270
          ]
         ],
         "geo": "geo",
         "hovertemplate": "<b>%{hovertext}</b><br><br>location=%{location}<br>total_deaths=%{customdata[0]}<br>people_fully_vaccinated=%{customdata[1]}<br>total_cases=%{z}<extra></extra>",
         "hovertext": [
          "Afghanistan",
          "Albania",
          "Algeria",
          "American Samoa",
          "Andorra",
          "Angola",
          "Anguilla",
          "Antigua and Barbuda",
          "Argentina",
          "Armenia",
          "Aruba",
          "Australia",
          "Austria",
          "Azerbaijan",
          "Bahamas",
          "Bahrain",
          "Bangladesh",
          "Barbados",
          "Belarus",
          "Belgium",
          "Belize",
          "Benin",
          "Bermuda",
          "Bhutan",
          "Bolivia",
          "Bonaire Sint Eustatius and Saba",
          "Bosnia and Herzegovina",
          "Botswana",
          "Brazil",
          "British Virgin Islands",
          "Brunei",
          "Bulgaria",
          "Burkina Faso",
          "Burundi",
          "Cambodia",
          "Cameroon",
          "Canada",
          "Cape Verde",
          "Cayman Islands",
          "Central African Republic",
          "Chad",
          "Chile",
          "China",
          "Colombia",
          "Comoros",
          "Congo",
          "Cook Islands",
          "Costa Rica",
          "Cote d'Ivoire",
          "Croatia",
          "Cuba",
          "Curacao",
          "Cyprus",
          "Czechia",
          "Democratic Republic of Congo",
          "Denmark",
          "Djibouti",
          "Dominica",
          "Dominican Republic",
          "Ecuador",
          "Egypt",
          "El Salvador",
          "Equatorial Guinea",
          "Eritrea",
          "Estonia",
          "Eswatini",
          "Ethiopia",
          "Faeroe Islands",
          "Fiji",
          "Finland",
          "France",
          "French Guiana",
          "French Polynesia",
          "Gabon",
          "Gambia",
          "Georgia",
          "Germany",
          "Ghana",
          "Gibraltar",
          "Greece",
          "Greenland",
          "Grenada",
          "Guadeloupe",
          "Guam",
          "Guatemala",
          "Guernsey",
          "Guinea",
          "Guinea-Bissau",
          "Guyana",
          "Haiti",
          "High income",
          "Honduras",
          "Hungary",
          "Iceland",
          "India",
          "Indonesia",
          "Iran",
          "Iraq",
          "Ireland",
          "Isle of Man",
          "Israel",
          "Italy",
          "Jamaica",
          "Japan",
          "Jersey",
          "Jordan",
          "Kazakhstan",
          "Kenya",
          "Kiribati",
          "Kosovo",
          "Kuwait",
          "Kyrgyzstan",
          "Laos",
          "Latvia",
          "Lebanon",
          "Lesotho",
          "Liberia",
          "Libya",
          "Liechtenstein",
          "Lithuania",
          "Low income",
          "Lower middle income",
          "Luxembourg",
          "Madagascar",
          "Malawi",
          "Malaysia",
          "Maldives",
          "Mali",
          "Malta",
          "Marshall Islands",
          "Martinique",
          "Mauritania",
          "Mauritius",
          "Mayotte",
          "Mexico",
          "Micronesia (country)",
          "Moldova",
          "Monaco",
          "Mongolia",
          "Montenegro",
          "Montserrat",
          "Morocco",
          "Mozambique",
          "Myanmar",
          "Namibia",
          "Nauru",
          "Nepal",
          "Netherlands",
          "New Caledonia",
          "New Zealand",
          "Nicaragua",
          "Niger",
          "Nigeria",
          "North Macedonia",
          "Northern Mariana Islands",
          "Norway",
          "Oman",
          "Pakistan",
          "Palau",
          "Palestine",
          "Panama",
          "Papua New Guinea",
          "Paraguay",
          "Peru",
          "Philippines",
          "Poland",
          "Portugal",
          "Puerto Rico",
          "Qatar",
          "Reunion",
          "Romania",
          "Russia",
          "Rwanda",
          "Saint Barthelemy",
          "Saint Kitts and Nevis",
          "Saint Lucia",
          "Saint Martin (French part)",
          "Saint Pierre and Miquelon",
          "Saint Vincent and the Grenadines",
          "Samoa",
          "San Marino",
          "Sao Tome and Principe",
          "Saudi Arabia",
          "Senegal",
          "Serbia",
          "Seychelles",
          "Sierra Leone",
          "Singapore",
          "Sint Maarten (Dutch part)",
          "Slovakia",
          "Slovenia",
          "Solomon Islands",
          "Somalia",
          "South Africa",
          "South Korea",
          "South Sudan",
          "Spain",
          "Sri Lanka",
          "Sudan",
          "Suriname",
          "Sweden",
          "Switzerland",
          "Syria",
          "Tajikistan",
          "Tanzania",
          "Thailand",
          "Timor",
          "Togo",
          "Tonga",
          "Trinidad and Tobago",
          "Tunisia",
          "Turkey",
          "Turks and Caicos Islands",
          "Tuvalu",
          "Uganda",
          "Ukraine",
          "United Arab Emirates",
          "United Kingdom",
          "United States",
          "United States Virgin Islands",
          "Upper middle income",
          "Uruguay",
          "Uzbekistan",
          "Vanuatu",
          "Venezuela",
          "Vietnam",
          "Wallis and Futuna",
          "Yemen",
          "Zambia",
          "Zimbabwe"
         ],
         "locationmode": "country names",
         "locations": [
          "Afghanistan",
          "Albania",
          "Algeria",
          "American Samoa",
          "Andorra",
          "Angola",
          "Anguilla",
          "Antigua and Barbuda",
          "Argentina",
          "Armenia",
          "Aruba",
          "Australia",
          "Austria",
          "Azerbaijan",
          "Bahamas",
          "Bahrain",
          "Bangladesh",
          "Barbados",
          "Belarus",
          "Belgium",
          "Belize",
          "Benin",
          "Bermuda",
          "Bhutan",
          "Bolivia",
          "Bonaire Sint Eustatius and Saba",
          "Bosnia and Herzegovina",
          "Botswana",
          "Brazil",
          "British Virgin Islands",
          "Brunei",
          "Bulgaria",
          "Burkina Faso",
          "Burundi",
          "Cambodia",
          "Cameroon",
          "Canada",
          "Cape Verde",
          "Cayman Islands",
          "Central African Republic",
          "Chad",
          "Chile",
          "China",
          "Colombia",
          "Comoros",
          "Congo",
          "Cook Islands",
          "Costa Rica",
          "Cote d'Ivoire",
          "Croatia",
          "Cuba",
          "Curacao",
          "Cyprus",
          "Czechia",
          "Democratic Republic of Congo",
          "Denmark",
          "Djibouti",
          "Dominica",
          "Dominican Republic",
          "Ecuador",
          "Egypt",
          "El Salvador",
          "Equatorial Guinea",
          "Eritrea",
          "Estonia",
          "Eswatini",
          "Ethiopia",
          "Faeroe Islands",
          "Fiji",
          "Finland",
          "France",
          "French Guiana",
          "French Polynesia",
          "Gabon",
          "Gambia",
          "Georgia",
          "Germany",
          "Ghana",
          "Gibraltar",
          "Greece",
          "Greenland",
          "Grenada",
          "Guadeloupe",
          "Guam",
          "Guatemala",
          "Guernsey",
          "Guinea",
          "Guinea-Bissau",
          "Guyana",
          "Haiti",
          "High income",
          "Honduras",
          "Hungary",
          "Iceland",
          "India",
          "Indonesia",
          "Iran",
          "Iraq",
          "Ireland",
          "Isle of Man",
          "Israel",
          "Italy",
          "Jamaica",
          "Japan",
          "Jersey",
          "Jordan",
          "Kazakhstan",
          "Kenya",
          "Kiribati",
          "Kosovo",
          "Kuwait",
          "Kyrgyzstan",
          "Laos",
          "Latvia",
          "Lebanon",
          "Lesotho",
          "Liberia",
          "Libya",
          "Liechtenstein",
          "Lithuania",
          "Low income",
          "Lower middle income",
          "Luxembourg",
          "Madagascar",
          "Malawi",
          "Malaysia",
          "Maldives",
          "Mali",
          "Malta",
          "Marshall Islands",
          "Martinique",
          "Mauritania",
          "Mauritius",
          "Mayotte",
          "Mexico",
          "Micronesia (country)",
          "Moldova",
          "Monaco",
          "Mongolia",
          "Montenegro",
          "Montserrat",
          "Morocco",
          "Mozambique",
          "Myanmar",
          "Namibia",
          "Nauru",
          "Nepal",
          "Netherlands",
          "New Caledonia",
          "New Zealand",
          "Nicaragua",
          "Niger",
          "Nigeria",
          "North Macedonia",
          "Northern Mariana Islands",
          "Norway",
          "Oman",
          "Pakistan",
          "Palau",
          "Palestine",
          "Panama",
          "Papua New Guinea",
          "Paraguay",
          "Peru",
          "Philippines",
          "Poland",
          "Portugal",
          "Puerto Rico",
          "Qatar",
          "Reunion",
          "Romania",
          "Russia",
          "Rwanda",
          "Saint Barthelemy",
          "Saint Kitts and Nevis",
          "Saint Lucia",
          "Saint Martin (French part)",
          "Saint Pierre and Miquelon",
          "Saint Vincent and the Grenadines",
          "Samoa",
          "San Marino",
          "Sao Tome and Principe",
          "Saudi Arabia",
          "Senegal",
          "Serbia",
          "Seychelles",
          "Sierra Leone",
          "Singapore",
          "Sint Maarten (Dutch part)",
          "Slovakia",
          "Slovenia",
          "Solomon Islands",
          "Somalia",
          "South Africa",
          "South Korea",
          "South Sudan",
          "Spain",
          "Sri Lanka",
          "Sudan",
          "Suriname",
          "Sweden",
          "Switzerland",
          "Syria",
          "Tajikistan",
          "Tanzania",
          "Thailand",
          "Timor",
          "Togo",
          "Tonga",
          "Trinidad and Tobago",
          "Tunisia",
          "Turkey",
          "Turks and Caicos Islands",
          "Tuvalu",
          "Uganda",
          "Ukraine",
          "United Arab Emirates",
          "United Kingdom",
          "United States",
          "United States Virgin Islands",
          "Upper middle income",
          "Uruguay",
          "Uzbekistan",
          "Vanuatu",
          "Venezuela",
          "Vietnam",
          "Wallis and Futuna",
          "Yemen",
          "Zambia",
          "Zimbabwe"
         ],
         "name": "",
         "type": "choropleth",
         "z": [
          226816,
          334090,
          271945,
          8359,
          48015,
          105972,
          3904,
          9106,
          10054576,
          450334,
          44224,
          11618144,
          6081287,
          833550,
          38084,
          696614,
          2045843,
          110074,
          994037,
          4817196,
          71060,
          28036,
          18860,
          62697,
          1209081,
          11922,
          403203,
          330298,
          37721749,
          7305,
          311905,
          1302188,
          22056,
          54366,
          138941,
          125090,
          4716205,
          64401,
          31472,
          15367,
          7698,
          5288843,
          99315684,
          6382432,
          9109,
          25196,
          7168,
          1238884,
          88338,
          1275762,
          1115103,
          45883,
          660854,
          4657581,
          99181,
          3417017,
          15690,
          15798,
          667074,
          1069139,
          516023,
          201808,
          17130,
          10189,
          602187,
          75052,
          501060,
          34658,
          69047,
          1487090,
          38997490,
          98041,
          78642,
          48992,
          12626,
          1855289,
          38437756,
          171653,
          20550,
          5405742,
          11971,
          19693,
          203235,
          52032,
          1271070,
          35326,
          38563,
          9614,
          73388,
          34368,
          425988398,
          474587,
          2207969,
          209142,
          44999588,
          6813429,
          7619981,
          2465545,
          1722546,
          38008,
          4840714,
          26168412,
          156414,
          33803572,
          66391,
          1746997,
          1502857,
          343999,
          5085,
          274247,
          666432,
          88889,
          218876,
          976316,
          1239904,
          35836,
          7930,
          507269,
          21497,
          1333228,
          2319834,
          97423102,
          384378,
          68350,
          88986,
          5130847,
          186694,
          33158,
          120422,
          16138,
          230354,
          63774,
          309917,
          42027,
          7692397,
          26547,
          625153,
          17049,
          1011170,
          251280,
          1403,
          1277082,
          233654,
          641324,
          172121,
          5393,
          1003447,
          8618815,
          80064,
          2390777,
          16050,
          9515,
          267146,
          349104,
          14299,
          1489459,
          399449,
          1580631,
          6243,
          703228,
          1047587,
          46864,
          735897,
          4520727,
          4115714,
          6525385,
          5621015,
          1252713,
          514524,
          494595,
          3478091,
          23061960,
          133194,
          5507,
          6607,
          30147,
          12324,
          3426,
          9644,
          16778,
          24697,
          6599,
          841469,
          89022,
          2560024,
          50937,
          7766,
          2626395,
          11051,
          1867647,
          1345384,
          21611,
          27334,
          4072533,
          34571873,
          18368,
          13980340,
          672593,
          63993,
          82588,
          2718433,
          4415674,
          57423,
          17786,
          43078,
          4757728,
          23460,
          39524,
          16839,
          191496,
          1153361,
          17004677,
          6630,
          2943,
          171871,
          5520483,
          1067030,
          24779150,
          103436829,
          25389,
          244463792,
          1039238,
          174123,
          12019,
          552695,
          11623987,
          3550,
          11945,
          349287,
          265808
         ]
        }
       ],
       "layout": {
        "autosize": true,
        "coloraxis": {
         "colorbar": {
          "title": {
           "text": "total_cases"
          }
         },
         "colorscale": [
          [
           0,
           "#0d0887"
          ],
          [
           0.1111111111111111,
           "#46039f"
          ],
          [
           0.2222222222222222,
           "#7201a8"
          ],
          [
           0.3333333333333333,
           "#9c179e"
          ],
          [
           0.4444444444444444,
           "#bd3786"
          ],
          [
           0.5555555555555556,
           "#d8576b"
          ],
          [
           0.6666666666666666,
           "#ed7953"
          ],
          [
           0.7777777777777778,
           "#fb9f3a"
          ],
          [
           0.8888888888888888,
           "#fdca26"
          ],
          [
           1,
           "#f0f921"
          ]
         ]
        },
        "geo": {
         "center": {},
         "domain": {
          "x": [
           0,
           1
          ],
          "y": [
           0,
           1
          ]
         }
        },
        "legend": {
         "tracegroupgap": 0
        },
        "template": {
         "data": {
          "bar": [
           {
            "error_x": {
             "color": "#2a3f5f"
            },
            "error_y": {
             "color": "#2a3f5f"
            },
            "marker": {
             "line": {
              "color": "#E5ECF6",
              "width": 0.5
             },
             "pattern": {
              "fillmode": "overlay",
              "size": 10,
              "solidity": 0.2
             }
            },
            "type": "bar"
           }
          ],
          "barpolar": [
           {
            "marker": {
             "line": {
              "color": "#E5ECF6",
              "width": 0.5
             },
             "pattern": {
              "fillmode": "overlay",
              "size": 10,
              "solidity": 0.2
             }
            },
            "type": "barpolar"
           }
          ],
          "carpet": [
           {
            "aaxis": {
             "endlinecolor": "#2a3f5f",
             "gridcolor": "white",
             "linecolor": "white",
             "minorgridcolor": "white",
             "startlinecolor": "#2a3f5f"
            },
            "baxis": {
             "endlinecolor": "#2a3f5f",
             "gridcolor": "white",
             "linecolor": "white",
             "minorgridcolor": "white",
             "startlinecolor": "#2a3f5f"
            },
            "type": "carpet"
           }
          ],
          "choropleth": [
           {
            "colorbar": {
             "outlinewidth": 0,
             "ticks": ""
            },
            "type": "choropleth"
           }
          ],
          "contour": [
           {
            "colorbar": {
             "outlinewidth": 0,
             "ticks": ""
            },
            "colorscale": [
             [
              0,
              "#0d0887"
             ],
             [
              0.1111111111111111,
              "#46039f"
             ],
             [
              0.2222222222222222,
              "#7201a8"
             ],
             [
              0.3333333333333333,
              "#9c179e"
             ],
             [
              0.4444444444444444,
              "#bd3786"
             ],
             [
              0.5555555555555556,
              "#d8576b"
             ],
             [
              0.6666666666666666,
              "#ed7953"
             ],
             [
              0.7777777777777778,
              "#fb9f3a"
             ],
             [
              0.8888888888888888,
              "#fdca26"
             ],
             [
              1,
              "#f0f921"
             ]
            ],
            "type": "contour"
           }
          ],
          "contourcarpet": [
           {
            "colorbar": {
             "outlinewidth": 0,
             "ticks": ""
            },
            "type": "contourcarpet"
           }
          ],
          "heatmap": [
           {
            "colorbar": {
             "outlinewidth": 0,
             "ticks": ""
            },
            "colorscale": [
             [
              0,
              "#0d0887"
             ],
             [
              0.1111111111111111,
              "#46039f"
             ],
             [
              0.2222222222222222,
              "#7201a8"
             ],
             [
              0.3333333333333333,
              "#9c179e"
             ],
             [
              0.4444444444444444,
              "#bd3786"
             ],
             [
              0.5555555555555556,
              "#d8576b"
             ],
             [
              0.6666666666666666,
              "#ed7953"
             ],
             [
              0.7777777777777778,
              "#fb9f3a"
             ],
             [
              0.8888888888888888,
              "#fdca26"
             ],
             [
              1,
              "#f0f921"
             ]
            ],
            "type": "heatmap"
           }
          ],
          "heatmapgl": [
           {
            "colorbar": {
             "outlinewidth": 0,
             "ticks": ""
            },
            "colorscale": [
             [
              0,
              "#0d0887"
             ],
             [
              0.1111111111111111,
              "#46039f"
             ],
             [
              0.2222222222222222,
              "#7201a8"
             ],
             [
              0.3333333333333333,
              "#9c179e"
             ],
             [
              0.4444444444444444,
              "#bd3786"
             ],
             [
              0.5555555555555556,
              "#d8576b"
             ],
             [
              0.6666666666666666,
              "#ed7953"
             ],
             [
              0.7777777777777778,
              "#fb9f3a"
             ],
             [
              0.8888888888888888,
              "#fdca26"
             ],
             [
              1,
              "#f0f921"
             ]
            ],
            "type": "heatmapgl"
           }
          ],
          "histogram": [
           {
            "marker": {
             "pattern": {
              "fillmode": "overlay",
              "size": 10,
              "solidity": 0.2
             }
            },
            "type": "histogram"
           }
          ],
          "histogram2d": [
           {
            "colorbar": {
             "outlinewidth": 0,
             "ticks": ""
            },
            "colorscale": [
             [
              0,
              "#0d0887"
             ],
             [
              0.1111111111111111,
              "#46039f"
             ],
             [
              0.2222222222222222,
              "#7201a8"
             ],
             [
              0.3333333333333333,
              "#9c179e"
             ],
             [
              0.4444444444444444,
              "#bd3786"
             ],
             [
              0.5555555555555556,
              "#d8576b"
             ],
             [
              0.6666666666666666,
              "#ed7953"
             ],
             [
              0.7777777777777778,
              "#fb9f3a"
             ],
             [
              0.8888888888888888,
              "#fdca26"
             ],
             [
              1,
              "#f0f921"
             ]
            ],
            "type": "histogram2d"
           }
          ],
          "histogram2dcontour": [
           {
            "colorbar": {
             "outlinewidth": 0,
             "ticks": ""
            },
            "colorscale": [
             [
              0,
              "#0d0887"
             ],
             [
              0.1111111111111111,
              "#46039f"
             ],
             [
              0.2222222222222222,
              "#7201a8"
             ],
             [
              0.3333333333333333,
              "#9c179e"
             ],
             [
              0.4444444444444444,
              "#bd3786"
             ],
             [
              0.5555555555555556,
              "#d8576b"
             ],
             [
              0.6666666666666666,
              "#ed7953"
             ],
             [
              0.7777777777777778,
              "#fb9f3a"
             ],
             [
              0.8888888888888888,
              "#fdca26"
             ],
             [
              1,
              "#f0f921"
             ]
            ],
            "type": "histogram2dcontour"
           }
          ],
          "mesh3d": [
           {
            "colorbar": {
             "outlinewidth": 0,
             "ticks": ""
            },
            "type": "mesh3d"
           }
          ],
          "parcoords": [
           {
            "line": {
             "colorbar": {
              "outlinewidth": 0,
              "ticks": ""
             }
            },
            "type": "parcoords"
           }
          ],
          "pie": [
           {
            "automargin": true,
            "type": "pie"
           }
          ],
          "scatter": [
           {
            "fillpattern": {
             "fillmode": "overlay",
             "size": 10,
             "solidity": 0.2
            },
            "type": "scatter"
           }
          ],
          "scatter3d": [
           {
            "line": {
             "colorbar": {
              "outlinewidth": 0,
              "ticks": ""
             }
            },
            "marker": {
             "colorbar": {
              "outlinewidth": 0,
              "ticks": ""
             }
            },
            "type": "scatter3d"
           }
          ],
          "scattercarpet": [
           {
            "marker": {
             "colorbar": {
              "outlinewidth": 0,
              "ticks": ""
             }
            },
            "type": "scattercarpet"
           }
          ],
          "scattergeo": [
           {
            "marker": {
             "colorbar": {
              "outlinewidth": 0,
              "ticks": ""
             }
            },
            "type": "scattergeo"
           }
          ],
          "scattergl": [
           {
            "marker": {
             "colorbar": {
              "outlinewidth": 0,
              "ticks": ""
             }
            },
            "type": "scattergl"
           }
          ],
          "scattermapbox": [
           {
            "marker": {
             "colorbar": {
              "outlinewidth": 0,
              "ticks": ""
             }
            },
            "type": "scattermapbox"
           }
          ],
          "scatterpolar": [
           {
            "marker": {
             "colorbar": {
              "outlinewidth": 0,
              "ticks": ""
             }
            },
            "type": "scatterpolar"
           }
          ],
          "scatterpolargl": [
           {
            "marker": {
             "colorbar": {
              "outlinewidth": 0,
              "ticks": ""
             }
            },
            "type": "scatterpolargl"
           }
          ],
          "scatterternary": [
           {
            "marker": {
             "colorbar": {
              "outlinewidth": 0,
              "ticks": ""
             }
            },
            "type": "scatterternary"
           }
          ],
          "surface": [
           {
            "colorbar": {
             "outlinewidth": 0,
             "ticks": ""
            },
            "colorscale": [
             [
              0,
              "#0d0887"
             ],
             [
              0.1111111111111111,
              "#46039f"
             ],
             [
              0.2222222222222222,
              "#7201a8"
             ],
             [
              0.3333333333333333,
              "#9c179e"
             ],
             [
              0.4444444444444444,
              "#bd3786"
             ],
             [
              0.5555555555555556,
              "#d8576b"
             ],
             [
              0.6666666666666666,
              "#ed7953"
             ],
             [
              0.7777777777777778,
              "#fb9f3a"
             ],
             [
              0.8888888888888888,
              "#fdca26"
             ],
             [
              1,
              "#f0f921"
             ]
            ],
            "type": "surface"
           }
          ],
          "table": [
           {
            "cells": {
             "fill": {
              "color": "#EBF0F8"
             },
             "line": {
              "color": "white"
             }
            },
            "header": {
             "fill": {
              "color": "#C8D4E3"
             },
             "line": {
              "color": "white"
             }
            },
            "type": "table"
           }
          ]
         },
         "layout": {
          "annotationdefaults": {
           "arrowcolor": "#2a3f5f",
           "arrowhead": 0,
           "arrowwidth": 1
          },
          "autotypenumbers": "strict",
          "coloraxis": {
           "colorbar": {
            "outlinewidth": 0,
            "ticks": ""
           }
          },
          "colorscale": {
           "diverging": [
            [
             0,
             "#8e0152"
            ],
            [
             0.1,
             "#c51b7d"
            ],
            [
             0.2,
             "#de77ae"
            ],
            [
             0.3,
             "#f1b6da"
            ],
            [
             0.4,
             "#fde0ef"
            ],
            [
             0.5,
             "#f7f7f7"
            ],
            [
             0.6,
             "#e6f5d0"
            ],
            [
             0.7,
             "#b8e186"
            ],
            [
             0.8,
             "#7fbc41"
            ],
            [
             0.9,
             "#4d9221"
            ],
            [
             1,
             "#276419"
            ]
           ],
           "sequential": [
            [
             0,
             "#0d0887"
            ],
            [
             0.1111111111111111,
             "#46039f"
            ],
            [
             0.2222222222222222,
             "#7201a8"
            ],
            [
             0.3333333333333333,
             "#9c179e"
            ],
            [
             0.4444444444444444,
             "#bd3786"
            ],
            [
             0.5555555555555556,
             "#d8576b"
            ],
            [
             0.6666666666666666,
             "#ed7953"
            ],
            [
             0.7777777777777778,
             "#fb9f3a"
            ],
            [
             0.8888888888888888,
             "#fdca26"
            ],
            [
             1,
             "#f0f921"
            ]
           ],
           "sequentialminus": [
            [
             0,
             "#0d0887"
            ],
            [
             0.1111111111111111,
             "#46039f"
            ],
            [
             0.2222222222222222,
             "#7201a8"
            ],
            [
             0.3333333333333333,
             "#9c179e"
            ],
            [
             0.4444444444444444,
             "#bd3786"
            ],
            [
             0.5555555555555556,
             "#d8576b"
            ],
            [
             0.6666666666666666,
             "#ed7953"
            ],
            [
             0.7777777777777778,
             "#fb9f3a"
            ],
            [
             0.8888888888888888,
             "#fdca26"
            ],
            [
             1,
             "#f0f921"
            ]
           ]
          },
          "colorway": [
           "#636efa",
           "#EF553B",
           "#00cc96",
           "#ab63fa",
           "#FFA15A",
           "#19d3f3",
           "#FF6692",
           "#B6E880",
           "#FF97FF",
           "#FECB52"
          ],
          "font": {
           "color": "#2a3f5f"
          },
          "geo": {
           "bgcolor": "white",
           "lakecolor": "white",
           "landcolor": "#E5ECF6",
           "showlakes": true,
           "showland": true,
           "subunitcolor": "white"
          },
          "hoverlabel": {
           "align": "left"
          },
          "hovermode": "closest",
          "mapbox": {
           "style": "light"
          },
          "paper_bgcolor": "white",
          "plot_bgcolor": "#E5ECF6",
          "polar": {
           "angularaxis": {
            "gridcolor": "white",
            "linecolor": "white",
            "ticks": ""
           },
           "bgcolor": "#E5ECF6",
           "radialaxis": {
            "gridcolor": "white",
            "linecolor": "white",
            "ticks": ""
           }
          },
          "scene": {
           "xaxis": {
            "backgroundcolor": "#E5ECF6",
            "gridcolor": "white",
            "gridwidth": 2,
            "linecolor": "white",
            "showbackground": true,
            "ticks": "",
            "zerolinecolor": "white"
           },
           "yaxis": {
            "backgroundcolor": "#E5ECF6",
            "gridcolor": "white",
            "gridwidth": 2,
            "linecolor": "white",
            "showbackground": true,
            "ticks": "",
            "zerolinecolor": "white"
           },
           "zaxis": {
            "backgroundcolor": "#E5ECF6",
            "gridcolor": "white",
            "gridwidth": 2,
            "linecolor": "white",
            "showbackground": true,
            "ticks": "",
            "zerolinecolor": "white"
           }
          },
          "shapedefaults": {
           "line": {
            "color": "#2a3f5f"
           }
          },
          "ternary": {
           "aaxis": {
            "gridcolor": "white",
            "linecolor": "white",
            "ticks": ""
           },
           "baxis": {
            "gridcolor": "white",
            "linecolor": "white",
            "ticks": ""
           },
           "bgcolor": "#E5ECF6",
           "caxis": {
            "gridcolor": "white",
            "linecolor": "white",
            "ticks": ""
           }
          },
          "title": {
           "x": 0.05
          },
          "xaxis": {
           "automargin": true,
           "gridcolor": "white",
           "linecolor": "white",
           "ticks": "",
           "title": {
            "standoff": 15
           },
           "zerolinecolor": "white",
           "zerolinewidth": 2
          },
          "yaxis": {
           "automargin": true,
           "gridcolor": "white",
           "linecolor": "white",
           "ticks": "",
           "title": {
            "standoff": 15
           },
           "zerolinecolor": "white",
           "zerolinewidth": 2
          }
         }
        },
        "title": {
         "text": "Total COVID-19 Cases by Country"
        }
       }
      },
      "image/png": "[encoded data removed]",
      "text/html": [
       "<div>                            <div id=\"913c5706-1071-447d-b4ae-1e173f8d19b1\" class=\"plotly-graph-div\" style=\"height:525px; width:100%;\"></div>            <script type=\"text/javascript\">                require([\"plotly\"], function(Plotly) {                    window.PLOTLYENV=window.PLOTLYENV || {};                                    if (document.getElementById(\"913c5706-1071-447d-b4ae-1e173f8d19b1\")) {                    Plotly.newPlot(                        \"913c5706-1071-447d-b4ae-1e173f8d19b1\",                        [{\"coloraxis\":\"coloraxis\",\"customdata\":[[7952.0,17515354.0],[3604.0,1279231.0],[6881.0,6481186.0],[34.0,null],[159.0,53501.0],[1936.0,9472763.0],[12.0,10380.0],[146.0,62384.0],[130472.0,34897769.0],[8762.0,998071.0],[292.0,84344.0],[23188.0,21648824.0],[22534.0,6683263.0],[10337.0,4862494.0],[844.0,166972.0],[1536.0,1226796.0],[29477.0,142193276.0],[620.0,155036.0],[7118.0,6355954.0],[34339.0,9169717.0],[688.0,221402.0],[163.0,2742837.0],[165.0,47657.0],[21.0,677669.0],[22404.0,6160585.0],[41.0,16736.0],[16357.0,846080.0],[2800.0,1663490.0],[704659.0,176164186.0],[64.0,18261.0],[163.0,446714.0],[38414.0,2077932.0],[396.0,5232347.0],[15.0,36321.0],[3056.0,14683075.0],[1974.0,3173644.0],[53297.0,31762130.0],[415.0,308720.0],[37.0,60664.0],[113.0,2484985.0],[194.0,6127422.0],[61607.0,17700117.0],[121742.0,1276760000.0],[142942.0,37019801.0],[160.0,397080.0],[389.0,654119.0],[2.0,14728.0],[9428.0,4358863.0],[835.0,12164304.0],[18374.0,2251725.0],[8530.0,10031911.0],[305.0,100885.0],[1364.0,646142.0],[42884.0,6893366.0],[1468.0,14399520.0],[8824.0,4716840.0],[189.0,401208.0],[74.0,30659.0],[4384.0,6114473.0],[36043.0,14240587.0],[24830.0,42337175.0],[4230.0,4344286.0],[183.0,214032.0],[103.0,null],[2902.0,861851.0],[1427.0,427335.0],[7574.0,43653006.0],[28.0,40895.0],[885.0,641194.0],[10321.0,4347780.0],[167985.0,53192478.0],[413.0,null],[649.0,186803.0],[307.0,257471.0],[372.0,539186.0],[17132.0,1276173.0],[174979.0,63563414.0],[1462.0,10780003.0],[113.0,41465.0],[37572.0,7646615.0],[21.0,38511.0],[238.0,39034.0],[1021.0,null],[417.0,null],[20235.0,7126305.0],[67.0,52710.0],[468.0,4725982.0],[177.0,533741.0],[1299.0,381984.0],[860.0,350403.0],[2914272.0,929160112.0],[11127.0,5853689.0],[48815.0,6207249.0],[186.0,290193.0],[532037.0,951985948.0],[161918.0,174893201.0],[146480.0,58582625.0],[25375.0,7944775.0],[9251.0,4063175.0],[116.0,67106.0],[12697.0,6159825.0],[192013.0,47949615.0],[3610.0,760132.0],[74694.0,103380343.0],[161.0,81882.0],[14122.0,4558313.0],[19072.0,10629063.0],[5689.0,11090440.0],[24.0,81474.0],[3211.0,825082.0],[2570.0,3346114.0],[1024.0,1406016.0],[671.0,5222417.0],[7384.0,1305976.0],[10947.0,2414223.0],[709.0,938088.0],[294.0,3730967.0],[6437.0,1236102.0],[87.0,null],[9718.0,1880665.0],[47995.0,203953653.0],[1339160.0,2049732903.0],[1000.0,462702.0],[1425.0,2628849.0],[2686.0,4223762.0],[37195.0,27529147.0],[316.0,385167.0],[743.0,3633589.0],[882.0,471537.0],[17.0,null],[1104.0,null],[997.0,1540533.0],[1054.0,1088142.0],[187.0,null],[334699.0,81849962.0],[65.0,null],[12128.0,1078747.0],[67.0,25667.0],[2284.0,2175617.0],[2654.0,284869.0],[8.0,1952.0],[16297.0,23521989.0],[2249.0,21329745.0],[19494.0,35196377.0],[4100.0,550656.0],[1.0,11346.0],[12031.0,24389063.0],[22986.0,11782254.0],[314.0,184816.0],[3376.0,4182631.0],[245.0,6117158.0],[315.0,5483001.0],[3155.0,79729922.0],[9946.0,838181.0],[41.0,null],[5732.0,4054726.0],[4628.0,3048826.0],[30656.0,140475871.0],[9.0,null],[5708.0,1776973.0],[8654.0,3174155.0],[670.0,321192.0],[19978.0,3546685.0],[221704.0,28699383.0],[66702.0,78443972.0],[119655.0,22649260.0],[27424.0,8906354.0],[5938.0,null],[690.0,2852178.0],[921.0,null],[68409.0,8114769.0],[400102.0,79702396.0],[1468.0,10399665.0],[5.0,null],[46.0,27000.0],[410.0,54971.0],[46.0,null],[2.0,null],[124.0,31632.0],[31.0,177954.0],[126.0,23633.0],[80.0,111986.0],[9646.0,25433941.0],[1971.0,1503332.0],[18057.0,3278198.0],[172.0,83565.0],[125.0,4961886.0],[1872.0,5120969.0],[92.0,26773.0],[21167.0,2577827.0],[9448.0,1222225.0],[153.0,254352.0],[1361.0,7666835.0],[102595.0,21038797.0],[35934.0,44372679.0],[138.0,4245286.0],[121852.0,40739123.0],[16882.0,14752827.0],[5046.0,13416394.0],[1408.0,237879.0],[24902.0,7593676.0],[14065.0,null],[3163.0,2358365.0],[125.0,5191919.0],[846.0,32165791.0],[34482.0,53486086.0],[138.0,799627.0],[290.0,1554066.0],[12.0,77360.0],[4390.0,716898.0],[29423.0,6401841.0],[101419.0,53176961.0],[39.0,30710.0],[1.0,9505.0],[3632.0,13061126.0],[109918.0,15153577.0],[2349.0,9792266.0],[230383.0,50762968.0],[1136920.0,230637348.0],[132.0,null],[2666760.0,1990292859.0],[7634.0,2903059.0],[1016.0,18438157.0],[14.0,162250.0],[5856.0,14966671.0],[43206.0,85961564.0],[8.0,6803.0],[2159.0,798451.0],[4069.0,9213802.0],[5718.0,4751270.0]],\"geo\":\"geo\",\"hovertemplate\":\"<b>%{hovertext}</b><br><br>location=%{location}<br>total_deaths=%{customdata[0]}<br>people_fully_vaccinated=%{customdata[1]}<br>total_cases=%{z}<extra></extra>\",\"hovertext\":[\"Afghanistan\",\"Albania\",\"Algeria\",\"American Samoa\",\"Andorra\",\"Angola\",\"Anguilla\",\"Antigua and Barbuda\",\"Argentina\",\"Armenia\",\"Aruba\",\"Australia\",\"Austria\",\"Azerbaijan\",\"Bahamas\",\"Bahrain\",\"Bangladesh\",\"Barbados\",\"Belarus\",\"Belgium\",\"Belize\",\"Benin\",\"Bermuda\",\"Bhutan\",\"Bolivia\",\"Bonaire Sint Eustatius and Saba\",\"Bosnia and Herzegovina\",\"Botswana\",\"Brazil\",\"British Virgin Islands\",\"Brunei\",\"Bulgaria\",\"Burkina Faso\",\"Burundi\",\"Cambodia\",\"Cameroon\",\"Canada\",\"Cape Verde\",\"Cayman Islands\",\"Central African Republic\",\"Chad\",\"Chile\",\"China\",\"Colombia\",\"Comoros\",\"Congo\",\"Cook Islands\",\"Costa Rica\",\"Cote d'Ivoire\",\"Croatia\",\"Cuba\",\"Curacao\",\"Cyprus\",\"Czechia\",\"Democratic Republic of Congo\",\"Denmark\",\"Djibouti\",\"Dominica\",\"Dominican Republic\",\"Ecuador\",\"Egypt\",\"El Salvador\",\"Equatorial Guinea\",\"Eritrea\",\"Estonia\",\"Eswatini\",\"Ethiopia\",\"Faeroe Islands\",\"Fiji\",\"Finland\",\"France\",\"French Guiana\",\"French Polynesia\",\"Gabon\",\"Gambia\",\"Georgia\",\"Germany\",\"Ghana\",\"Gibraltar\",\"Greece\",\"Greenland\",\"Grenada\",\"Guadeloupe\",\"Guam\",\"Guatemala\",\"Guernsey\",\"Guinea\",\"Guinea-Bissau\",\"Guyana\",\"Haiti\",\"High income\",\"Honduras\",\"Hungary\",\"Iceland\",\"India\",\"Indonesia\",\"Iran\",\"Iraq\",\"Ireland\",\"Isle of Man\",\"Israel\",\"Italy\",\"Jamaica\",\"Japan\",\"Jersey\",\"Jordan\",\"Kazakhstan\",\"Kenya\",\"Kiribati\",\"Kosovo\",\"Kuwait\",\"Kyrgyzstan\",\"Laos\",\"Latvia\",\"Lebanon\",\"Lesotho\",\"Liberia\",\"Libya\",\"Liechtenstein\",\"Lithuania\",\"Low income\",\"Lower middle income\",\"Luxembourg\",\"Madagascar\",\"Malawi\",\"Malaysia\",\"Maldives\",\"Mali\",\"Malta\",\"Marshall Islands\",\"Martinique\",\"Mauritania\",\"Mauritius\",\"Mayotte\",\"Mexico\",\"Micronesia (country)\",\"Moldova\",\"Monaco\",\"Mongolia\",\"Montenegro\",\"Montserrat\",\"Morocco\",\"Mozambique\",\"Myanmar\",\"Namibia\",\"Nauru\",\"Nepal\",\"Netherlands\",\"New Caledonia\",\"New Zealand\",\"Nicaragua\",\"Niger\",\"Nigeria\",\"North Macedonia\",\"Northern Mariana Islands\",\"Norway\",\"Oman\",\"Pakistan\",\"Palau\",\"Palestine\",\"Panama\",\"Papua New Guinea\",\"Paraguay\",\"Peru\",\"Philippines\",\"Poland\",\"Portugal\",\"Puerto Rico\",\"Qatar\",\"Reunion\",\"Romania\",\"Russia\",\"Rwanda\",\"Saint Barthelemy\",\"Saint Kitts and Nevis\",\"Saint Lucia\",\"Saint Martin (French part)\",\"Saint Pierre and Miquelon\",\"Saint Vincent and the Grenadines\",\"Samoa\",\"San Marino\",\"Sao Tome and Principe\",\"Saudi Arabia\",\"Senegal\",\"Serbia\",\"Seychelles\",\"Sierra Leone\",\"Singapore\",\"Sint Maarten (Dutch part)\",\"Slovakia\",\"Slovenia\",\"Solomon Islands\",\"Somalia\",\"South Africa\",\"South Korea\",\"South Sudan\",\"Spain\",\"Sri Lanka\",\"Sudan\",\"Suriname\",\"Sweden\",\"Switzerland\",\"Syria\",\"Tajikistan\",\"Tanzania\",\"Thailand\",\"Timor\",\"Togo\",\"Tonga\",\"Trinidad and Tobago\",\"Tunisia\",\"Turkey\",\"Turks and Caicos Islands\",\"Tuvalu\",\"Uganda\",\"Ukraine\",\"United Arab Emirates\",\"United Kingdom\",\"United States\",\"United States Virgin Islands\",\"Upper middle income\",\"Uruguay\",\"Uzbekistan\",\"Vanuatu\",\"Venezuela\",\"Vietnam\",\"Wallis and Futuna\",\"Yemen\",\"Zambia\",\"Zimbabwe\"],\"locationmode\":\"country names\",\"locations\":[\"Afghanistan\",\"Albania\",\"Algeria\",\"American Samoa\",\"Andorra\",\"Angola\",\"Anguilla\",\"Antigua and Barbuda\",\"Argentina\",\"Armenia\",\"Aruba\",\"Australia\",\"Austria\",\"Azerbaijan\",\"Bahamas\",\"Bahrain\",\"Bangladesh\",\"Barbados\",\"Belarus\",\"Belgium\",\"Belize\",\"Benin\",\"Bermuda\",\"Bhutan\",\"Bolivia\",\"Bonaire Sint Eustatius and Saba\",\"Bosnia and Herzegovina\",\"Botswana\",\"Brazil\",\"British Virgin Islands\",\"Brunei\",\"Bulgaria\",\"Burkina Faso\",\"Burundi\",\"Cambodia\",\"Cameroon\",\"Canada\",\"Cape Verde\",\"Cayman Islands\",\"Central African Republic\",\"Chad\",\"Chile\",\"China\",\"Colombia\",\"Comoros\",\"Congo\",\"Cook Islands\",\"Costa Rica\",\"Cote d'Ivoire\",\"Croatia\",\"Cuba\",\"Curacao\",\"Cyprus\",\"Czechia\",\"Democratic Republic of Congo\",\"Denmark\",\"Djibouti\",\"Dominica\",\"Dominican Republic\",\"Ecuador\",\"Egypt\",\"El Salvador\",\"Equatorial Guinea\",\"Eritrea\",\"Estonia\",\"Eswatini\",\"Ethiopia\",\"Faeroe Islands\",\"Fiji\",\"Finland\",\"France\",\"French Guiana\",\"French Polynesia\",\"Gabon\",\"Gambia\",\"Georgia\",\"Germany\",\"Ghana\",\"Gibraltar\",\"Greece\",\"Greenland\",\"Grenada\",\"Guadeloupe\",\"Guam\",\"Guatemala\",\"Guernsey\",\"Guinea\",\"Guinea-Bissau\",\"Guyana\",\"Haiti\",\"High income\",\"Honduras\",\"Hungary\",\"Iceland\",\"India\",\"Indonesia\",\"Iran\",\"Iraq\",\"Ireland\",\"Isle of Man\",\"Israel\",\"Italy\",\"Jamaica\",\"Japan\",\"Jersey\",\"Jordan\",\"Kazakhstan\",\"Kenya\",\"Kiribati\",\"Kosovo\",\"Kuwait\",\"Kyrgyzstan\",\"Laos\",\"Latvia\",\"Lebanon\",\"Lesotho\",\"Liberia\",\"Libya\",\"Liechtenstein\",\"Lithuania\",\"Low income\",\"Lower middle income\",\"Luxembourg\",\"Madagascar\",\"Malawi\",\"Malaysia\",\"Maldives\",\"Mali\",\"Malta\",\"Marshall Islands\",\"Martinique\",\"Mauritania\",\"Mauritius\",\"Mayotte\",\"Mexico\",\"Micronesia (country)\",\"Moldova\",\"Monaco\",\"Mongolia\",\"Montenegro\",\"Montserrat\",\"Morocco\",\"Mozambique\",\"Myanmar\",\"Namibia\",\"Nauru\",\"Nepal\",\"Netherlands\",\"New Caledonia\",\"New Zealand\",\"Nicaragua\",\"Niger\",\"Nigeria\",\"North Macedonia\",\"Northern Mariana Islands\",\"Norway\",\"Oman\",\"Pakistan\",\"Palau\",\"Palestine\",\"Panama\",\"Papua New Guinea\",\"Paraguay\",\"Peru\",\"Philippines\",\"Poland\",\"Portugal\",\"Puerto Rico\",\"Qatar\",\"Reunion\",\"Romania\",\"Russia\",\"Rwanda\",\"Saint Barthelemy\",\"Saint Kitts and Nevis\",\"Saint Lucia\",\"Saint Martin (French part)\",\"Saint Pierre and Miquelon\",\"Saint Vincent and the Grenadines\",\"Samoa\",\"San Marino\",\"Sao Tome and Principe\",\"Saudi Arabia\",\"Senegal\",\"Serbia\",\"Seychelles\",\"Sierra Leone\",\"Singapore\",\"Sint Maarten (Dutch part)\",\"Slovakia\",\"Slovenia\",\"Solomon Islands\",\"Somalia\",\"South Africa\",\"South Korea\",\"South Sudan\",\"Spain\",\"Sri Lanka\",\"Sudan\",\"Suriname\",\"Sweden\",\"Switzerland\",\"Syria\",\"Tajikistan\",\"Tanzania\",\"Thailand\",\"Timor\",\"Togo\",\"Tonga\",\"Trinidad and Tobago\",\"Tunisia\",\"Turkey\",\"Turks and Caicos Islands\",\"Tuvalu\",\"Uganda\",\"Ukraine\",\"United Arab Emirates\",\"United Kingdom\",\"United States\",\"United States Virgin Islands\",\"Upper middle income\",\"Uruguay\",\"Uzbekistan\",\"Vanuatu\",\"Venezuela\",\"Vietnam\",\"Wallis and Futuna\",\"Yemen\",\"Zambia\",\"Zimbabwe\"],\"name\":\"\",\"z\":[226816.0,334090.0,271945.0,8359.0,48015.0,105972.0,3904.0,9106.0,10054576.0,450334.0,44224.0,11618144.0,6081287.0,833550.0,38084.0,696614.0,2045843.0,110074.0,994037.0,4817196.0,71060.0,28036.0,18860.0,62697.0,1209081.0,11922.0,403203.0,330298.0,37721749.0,7305.0,311905.0,1302188.0,22056.0,54366.0,138941.0,125090.0,4716205.0,64401.0,31472.0,15367.0,7698.0,5288843.0,99315684.0,6382432.0,9109.0,25196.0,7168.0,1238884.0,88338.0,1275762.0,1115103.0,45883.0,660854.0,4657581.0,99181.0,3417017.0,15690.0,15798.0,667074.0,1069139.0,516023.0,201808.0,17130.0,10189.0,602187.0,75052.0,501060.0,34658.0,69047.0,1487090.0,38997490.0,98041.0,78642.0,48992.0,12626.0,1855289.0,38437756.0,171653.0,20550.0,5405742.0,11971.0,19693.0,203235.0,52032.0,1271070.0,35326.0,38563.0,9614.0,73388.0,34368.0,425988398.0,474587.0,2207969.0,209142.0,44999588.0,6813429.0,7619981.0,2465545.0,1722546.0,38008.0,4840714.0,26168412.0,156414.0,33803572.0,66391.0,1746997.0,1502857.0,343999.0,5085.0,274247.0,666432.0,88889.0,218876.0,976316.0,1239904.0,35836.0,7930.0,507269.0,21497.0,1333228.0,2319834.0,97423102.0,384378.0,68350.0,88986.0,5130847.0,186694.0,33158.0,120422.0,16138.0,230354.0,63774.0,309917.0,42027.0,7692397.0,26547.0,625153.0,17049.0,1011170.0,251280.0,1403.0,1277082.0,233654.0,641324.0,172121.0,5393.0,1003447.0,8618815.0,80064.0,2390777.0,16050.0,9515.0,267146.0,349104.0,14299.0,1489459.0,399449.0,1580631.0,6243.0,703228.0,1047587.0,46864.0,735897.0,4520727.0,4115714.0,6525385.0,5621015.0,1252713.0,514524.0,494595.0,3478091.0,23061960.0,133194.0,5507.0,6607.0,30147.0,12324.0,3426.0,9644.0,16778.0,24697.0,6599.0,841469.0,89022.0,2560024.0,50937.0,7766.0,2626395.0,11051.0,1867647.0,1345384.0,21611.0,27334.0,4072533.0,34571873.0,18368.0,13980340.0,672593.0,63993.0,82588.0,2718433.0,4415674.0,57423.0,17786.0,43078.0,4757728.0,23460.0,39524.0,16839.0,191496.0,1153361.0,17004677.0,6630.0,2943.0,171871.0,5520483.0,1067030.0,24779150.0,103436829.0,25389.0,244463792.0,1039238.0,174123.0,12019.0,552695.0,11623987.0,3550.0,11945.0,349287.0,265808.0],\"type\":\"choropleth\"}],                        {\"template\":{\"data\":{\"histogram2dcontour\":[{\"type\":\"histogram2dcontour\",\"colorbar\":{\"outlinewidth\":0,\"ticks\":\"\"},\"colorscale\":[[0.0,\"#0d0887\"],[0.1111111111111111,\"#46039f\"],[0.2222222222222222,\"#7201a8\"],[0.3333333333333333,\"#9c179e\"],[0.4444444444444444,\"#bd3786\"],[0.5555555555555556,\"#d8576b\"],[0.6666666666666666,\"#ed7953\"],[0.7777777777777778,\"#fb9f3a\"],[0.8888888888888888,\"#fdca26\"],[1.0,\"#f0f921\"]]}],\"choropleth\":[{\"type\":\"choropleth\",\"colorbar\":{\"outlinewidth\":0,\"ticks\":\"\"}}],\"histogram2d\":[{\"type\":\"histogram2d\",\"colorbar\":{\"outlinewidth\":0,\"ticks\":\"\"},\"colorscale\":[[0.0,\"#0d0887\"],[0.1111111111111111,\"#46039f\"],[0.2222222222222222,\"#7201a8\"],[0.3333333333333333,\"#9c179e\"],[0.4444444444444444,\"#bd3786\"],[0.5555555555555556,\"#d8576b\"],[0.6666666666666666,\"#ed7953\"],[0.7777777777777778,\"#fb9f3a\"],[0.8888888888888888,\"#fdca26\"],[1.0,\"#f0f921\"]]}],\"heatmap\":[{\"type\":\"heatmap\",\"colorbar\":{\"outlinewidth\":0,\"ticks\":\"\"},\"colorscale\":[[0.0,\"#0d0887\"],[0.1111111111111111,\"#46039f\"],[0.2222222222222222,\"#7201a8\"],[0.3333333333333333,\"#9c179e\"],[0.4444444444444444,\"#bd3786\"],[0.5555555555555556,\"#d8576b\"],[0.6666666666666666,\"#ed7953\"],[0.7777777777777778,\"#fb9f3a\"],[0.8888888888888888,\"#fdca26\"],[1.0,\"#f0f921\"]]}],\"heatmapgl\":[{\"type\":\"heatmapgl\",\"colorbar\":{\"outlinewidth\":0,\"ticks\":\"\"},\"colorscale\":[[0.0,\"#0d0887\"],[0.1111111111111111,\"#46039f\"],[0.2222222222222222,\"#7201a8\"],[0.3333333333333333,\"#9c179e\"],[0.4444444444444444,\"#bd3786\"],[0.5555555555555556,\"#d8576b\"],[0.6666666666666666,\"#ed7953\"],[0.7777777777777778,\"#fb9f3a\"],[0.8888888888888888,\"#fdca26\"],[1.0,\"#f0f921\"]]}],\"contourcarpet\":[{\"type\":\"contourcarpet\",\"colorbar\":{\"outlinewidth\":0,\"ticks\":\"\"}}],\"contour\":[{\"type\":\"contour\",\"colorbar\":{\"outlinewidth\":0,\"ticks\":\"\"},\"colorscale\":[[0.0,\"#0d0887\"],[0.1111111111111111,\"#46039f\"],[0.2222222222222222,\"#7201a8\"],[0.3333333333333333,\"#9c179e\"],[0.4444444444444444,\"#bd3786\"],[0.5555555555555556,\"#d8576b\"],[0.6666666666666666,\"#ed7953\"],[0.7777777777777778,\"#fb9f3a\"],[0.8888888888888888,\"#fdca26\"],[1.0,\"#f0f921\"]]}],\"surface\":[{\"type\":\"surface\",\"colorbar\":{\"outlinewidth\":0,\"ticks\":\"\"},\"colorscale\":[[0.0,\"#0d0887\"],[0.1111111111111111,\"#46039f\"],[0.2222222222222222,\"#7201a8\"],[0.3333333333333333,\"#9c179e\"],[0.4444444444444444,\"#bd3786\"],[0.5555555555555556,\"#d8576b\"],[0.6666666666666666,\"#ed7953\"],[0.7777777777777778,\"#fb9f3a\"],[0.8888888888888888,\"#fdca26\"],[1.0,\"#f0f921\"]]}],\"mesh3d\":[{\"type\":\"mesh3d\",\"colorbar\":{\"outlinewidth\":0,\"ticks\":\"\"}}],\"scatter\":[{\"fillpattern\":{\"fillmode\":\"overlay\",\"size\":10,\"solidity\":0.2},\"type\":\"scatter\"}],\"parcoords\":[{\"type\":\"parcoords\",\"line\":{\"colorbar\":{\"outlinewidth\":0,\"ticks\":\"\"}}}],\"scatterpolargl\":[{\"type\":\"scatterpolargl\",\"marker\":{\"colorbar\":{\"outlinewidth\":0,\"ticks\":\"\"}}}],\"bar\":[{\"error_x\":{\"color\":\"#2a3f5f\"},\"error_y\":{\"color\":\"#2a3f5f\"},\"marker\":{\"line\":{\"color\":\"#E5ECF6\",\"width\":0.5},\"pattern\":{\"fillmode\":\"overlay\",\"size\":10,\"solidity\":0.2}},\"type\":\"bar\"}],\"scattergeo\":[{\"type\":\"scattergeo\",\"marker\":{\"colorbar\":{\"outlinewidth\":0,\"ticks\":\"\"}}}],\"scatterpolar\":[{\"type\":\"scatterpolar\",\"marker\":{\"colorbar\":{\"outlinewidth\":0,\"ticks\":\"\"}}}],\"histogram\":[{\"marker\":{\"pattern\":{\"fillmode\":\"overlay\",\"size\":10,\"solidity\":0.2}},\"type\":\"histogram\"}],\"scattergl\":[{\"type\":\"scattergl\",\"marker\":{\"colorbar\":{\"outlinewidth\":0,\"ticks\":\"\"}}}],\"scatter3d\":[{\"type\":\"scatter3d\",\"line\":{\"colorbar\":{\"outlinewidth\":0,\"ticks\":\"\"}},\"marker\":{\"colorbar\":{\"outlinewidth\":0,\"ticks\":\"\"}}}],\"scattermapbox\":[{\"type\":\"scattermapbox\",\"marker\":{\"colorbar\":{\"outlinewidth\":0,\"ticks\":\"\"}}}],\"scatterternary\":[{\"type\":\"scatterternary\",\"marker\":{\"colorbar\":{\"outlinewidth\":0,\"ticks\":\"\"}}}],\"scattercarpet\":[{\"type\":\"scattercarpet\",\"marker\":{\"colorbar\":{\"outlinewidth\":0,\"ticks\":\"\"}}}],\"carpet\":[{\"aaxis\":{\"endlinecolor\":\"#2a3f5f\",\"gridcolor\":\"white\",\"linecolor\":\"white\",\"minorgridcolor\":\"white\",\"startlinecolor\":\"#2a3f5f\"},\"baxis\":{\"endlinecolor\":\"#2a3f5f\",\"gridcolor\":\"white\",\"linecolor\":\"white\",\"minorgridcolor\":\"white\",\"startlinecolor\":\"#2a3f5f\"},\"type\":\"carpet\"}],\"table\":[{\"cells\":{\"fill\":{\"color\":\"#EBF0F8\"},\"line\":{\"color\":\"white\"}},\"header\":{\"fill\":{\"color\":\"#C8D4E3\"},\"line\":{\"color\":\"white\"}},\"type\":\"table\"}],\"barpolar\":[{\"marker\":{\"line\":{\"color\":\"#E5ECF6\",\"width\":0.5},\"pattern\":{\"fillmode\":\"overlay\",\"size\":10,\"solidity\":0.2}},\"type\":\"barpolar\"}],\"pie\":[{\"automargin\":true,\"type\":\"pie\"}]},\"layout\":{\"autotypenumbers\":\"strict\",\"colorway\":[\"#636efa\",\"#EF553B\",\"#00cc96\",\"#ab63fa\",\"#FFA15A\",\"#19d3f3\",\"#FF6692\",\"#B6E880\",\"#FF97FF\",\"#FECB52\"],\"font\":{\"color\":\"#2a3f5f\"},\"hovermode\":\"closest\",\"hoverlabel\":{\"align\":\"left\"},\"paper_bgcolor\":\"white\",\"plot_bgcolor\":\"#E5ECF6\",\"polar\":{\"bgcolor\":\"#E5ECF6\",\"angularaxis\":{\"gridcolor\":\"white\",\"linecolor\":\"white\",\"ticks\":\"\"},\"radialaxis\":{\"gridcolor\":\"white\",\"linecolor\":\"white\",\"ticks\":\"\"}},\"ternary\":{\"bgcolor\":\"#E5ECF6\",\"aaxis\":{\"gridcolor\":\"white\",\"linecolor\":\"white\",\"ticks\":\"\"},\"baxis\":{\"gridcolor\":\"white\",\"linecolor\":\"white\",\"ticks\":\"\"},\"caxis\":{\"gridcolor\":\"white\",\"linecolor\":\"white\",\"ticks\":\"\"}},\"coloraxis\":{\"colorbar\":{\"outlinewidth\":0,\"ticks\":\"\"}},\"colorscale\":{\"sequential\":[[0.0,\"#0d0887\"],[0.1111111111111111,\"#46039f\"],[0.2222222222222222,\"#7201a8\"],[0.3333333333333333,\"#9c179e\"],[0.4444444444444444,\"#bd3786\"],[0.5555555555555556,\"#d8576b\"],[0.6666666666666666,\"#ed7953\"],[0.7777777777777778,\"#fb9f3a\"],[0.8888888888888888,\"#fdca26\"],[1.0,\"#f0f921\"]],\"sequentialminus\":[[0.0,\"#0d0887\"],[0.1111111111111111,\"#46039f\"],[0.2222222222222222,\"#7201a8\"],[0.3333333333333333,\"#9c179e\"],[0.4444444444444444,\"#bd3786\"],[0.5555555555555556,\"#d8576b\"],[0.6666666666666666,\"#ed7953\"],[0.7777777777777778,\"#fb9f3a\"],[0.8888888888888888,\"#fdca26\"],[1.0,\"#f0f921\"]],\"diverging\":[[0,\"#8e0152\"],[0.1,\"#c51b7d\"],[0.2,\"#de77ae\"],[0.3,\"#f1b6da\"],[0.4,\"#fde0ef\"],[0.5,\"#f7f7f7\"],[0.6,\"#e6f5d0\"],[0.7,\"#b8e186\"],[0.8,\"#7fbc41\"],[0.9,\"#4d9221\"],[1,\"#276419\"]]},\"xaxis\":{\"gridcolor\":\"white\",\"linecolor\":\"white\",\"ticks\":\"\",\"title\":{\"standoff\":15},\"zerolinecolor\":\"white\",\"automargin\":true,\"zerolinewidth\":2},\"yaxis\":{\"gridcolor\":\"white\",\"linecolor\":\"white\",\"ticks\":\"\",\"title\":{\"standoff\":15},\"zerolinecolor\":\"white\",\"automargin\":true,\"zerolinewidth\":2},\"scene\":{\"xaxis\":{\"backgroundcolor\":\"#E5ECF6\",\"gridcolor\":\"white\",\"linecolor\":\"white\",\"showbackground\":true,\"ticks\":\"\",\"zerolinecolor\":\"white\",\"gridwidth\":2},\"yaxis\":{\"backgroundcolor\":\"#E5ECF6\",\"gridcolor\":\"white\",\"linecolor\":\"white\",\"showbackground\":true,\"ticks\":\"\",\"zerolinecolor\":\"white\",\"gridwidth\":2},\"zaxis\":{\"backgroundcolor\":\"#E5ECF6\",\"gridcolor\":\"white\",\"linecolor\":\"white\",\"showbackground\":true,\"ticks\":\"\",\"zerolinecolor\":\"white\",\"gridwidth\":2}},\"shapedefaults\":{\"line\":{\"color\":\"#2a3f5f\"}},\"annotationdefaults\":{\"arrowcolor\":\"#2a3f5f\",\"arrowhead\":0,\"arrowwidth\":1},\"geo\":{\"bgcolor\":\"white\",\"landcolor\":\"#E5ECF6\",\"subunitcolor\":\"white\",\"showland\":true,\"showlakes\":true,\"lakecolor\":\"white\"},\"title\":{\"x\":0.05},\"mapbox\":{\"style\":\"light\"}}},\"geo\":{\"domain\":{\"x\":[0.0,1.0],\"y\":[0.0,1.0]},\"center\":{}},\"coloraxis\":{\"colorbar\":{\"title\":{\"text\":\"total_cases\"}},\"colorscale\":[[0.0,\"#0d0887\"],[0.1111111111111111,\"#46039f\"],[0.2222222222222222,\"#7201a8\"],[0.3333333333333333,\"#9c179e\"],[0.4444444444444444,\"#bd3786\"],[0.5555555555555556,\"#d8576b\"],[0.6666666666666666,\"#ed7953\"],[0.7777777777777778,\"#fb9f3a\"],[0.8888888888888888,\"#fdca26\"],[1.0,\"#f0f921\"]]},\"legend\":{\"tracegroupgap\":0},\"title\":{\"text\":\"Total COVID-19 Cases by Country\"}},                        {\"responsive\": true}                    ).then(function(){\n",
       "                            \n",
       "var gd = document.getElementById('913c5706-1071-447d-b4ae-1e173f8d19b1');\n",
       "var x = new MutationObserver(function (mutations, observer) {{\n",
       "        var display = window.getComputedStyle(gd).display;\n",
       "        if (!display || display === 'none') {{\n",
       "            console.log([gd, 'removed!']);\n",
       "            Plotly.purge(gd);\n",
       "            observer.disconnect();\n",
       "        }}\n",
       "}});\n",
       "\n",
       "// Listen for the removal of the full notebook cells\n",
       "var notebookContainer = gd.closest('#notebook-container');\n",
       "if (notebookContainer) {{\n",
       "    x.observe(notebookContainer, {childList: true});\n",
       "}}\n",
       "\n",
       "// Listen for the clearing of the current output cell\n",
       "var outputEl = gd.closest('.output');\n",
       "if (outputEl) {{\n",
       "    x.observe(outputEl, {childList: true});\n",
       "}}\n",
       "\n",
       "                        })                };                });            </script>        </div>"
      ]
     },
     "metadata": {},
     "output_type": "display_data"
    }
   ],
   "source": [
    "import plotly.express as px\n",
    "\n",
    "# Create choropleth of cases per million\n",
    "fig = px.choropleth(latest_data,\n",
    "                    locations=\"location\",\n",
    "                    locationmode='country names',\n",
    "                    color=\"total_cases\",\n",
    "                    hover_name=\"location\",\n",
    "                    hover_data=[\"total_deaths\", \"people_fully_vaccinated\"],\n",
    "                    color_continuous_scale=px.colors.sequential.Plasma,\n",
    "                    title=\"Total COVID-19 Cases by Country\")\n",
    "fig.show()\n"
   ]
  },
  {
   "cell_type": "code",
   "execution_count": 26,
   "id": "dfd7d308-4f80-4a3a-b43b-5f58f9d53242",
   "metadata": {},
   "outputs": [
    {
     "data": {
      "application/vnd.plotly.v1+json": {
       "config": {
        "plotlyServerURL": "https://plot.ly"
       },
       "data": [
        {
         "coloraxis": "coloraxis",
         "customdata": [
          [
           226816,
           7952
          ],
          [
           334090,
           3604
          ],
          [
           271945,
           6881
          ],
          [
           8359,
           34
          ],
          [
           48015,
           159
          ],
          [
           105972,
           1936
          ],
          [
           3904,
           12
          ],
          [
           9106,
           146
          ],
          [
           10054576,
           130472
          ],
          [
           450334,
           8762
          ],
          [
           44224,
           292
          ],
          [
           11618144,
           23188
          ],
          [
           6081287,
           22534
          ],
          [
           833550,
           10337
          ],
          [
           38084,
           844
          ],
          [
           696614,
           1536
          ],
          [
           2045843,
           29477
          ],
          [
           110074,
           620
          ],
          [
           994037,
           7118
          ],
          [
           4817196,
           34339
          ],
          [
           71060,
           688
          ],
          [
           28036,
           163
          ],
          [
           18860,
           165
          ],
          [
           62697,
           21
          ],
          [
           1209081,
           22404
          ],
          [
           11922,
           41
          ],
          [
           403203,
           16357
          ],
          [
           330298,
           2800
          ],
          [
           37721749,
           704659
          ],
          [
           7305,
           64
          ],
          [
           311905,
           163
          ],
          [
           1302188,
           38414
          ],
          [
           22056,
           396
          ],
          [
           54366,
           15
          ],
          [
           138941,
           3056
          ],
          [
           125090,
           1974
          ],
          [
           4716205,
           53297
          ],
          [
           64401,
           415
          ],
          [
           31472,
           37
          ],
          [
           15367,
           113
          ],
          [
           7698,
           194
          ],
          [
           5288843,
           61607
          ],
          [
           99315684,
           121742
          ],
          [
           6382432,
           142942
          ],
          [
           9109,
           160
          ],
          [
           25196,
           389
          ],
          [
           7168,
           2
          ],
          [
           1238884,
           9428
          ],
          [
           88338,
           835
          ],
          [
           1275762,
           18374
          ],
          [
           1115103,
           8530
          ],
          [
           45883,
           305
          ],
          [
           660854,
           1364
          ],
          [
           4657581,
           42884
          ],
          [
           99181,
           1468
          ],
          [
           3417017,
           8824
          ],
          [
           15690,
           189
          ],
          [
           15798,
           74
          ],
          [
           667074,
           4384
          ],
          [
           1069139,
           36043
          ],
          [
           516023,
           24830
          ],
          [
           201808,
           4230
          ],
          [
           17130,
           183
          ],
          [
           10189,
           103
          ],
          [
           602187,
           2902
          ],
          [
           75052,
           1427
          ],
          [
           501060,
           7574
          ],
          [
           34658,
           28
          ],
          [
           69047,
           885
          ],
          [
           1487090,
           10321
          ],
          [
           38997490,
           167985
          ],
          [
           98041,
           413
          ],
          [
           78642,
           649
          ],
          [
           48992,
           307
          ],
          [
           12626,
           372
          ],
          [
           1855289,
           17132
          ],
          [
           38437756,
           174979
          ],
          [
           171653,
           1462
          ],
          [
           20550,
           113
          ],
          [
           5405742,
           37572
          ],
          [
           11971,
           21
          ],
          [
           19693,
           238
          ],
          [
           203235,
           1021
          ],
          [
           52032,
           417
          ],
          [
           1271070,
           20235
          ],
          [
           35326,
           67
          ],
          [
           38563,
           468
          ],
          [
           9614,
           177
          ],
          [
           73388,
           1299
          ],
          [
           34368,
           860
          ],
          [
           425988398,
           2914272
          ],
          [
           474587,
           11127
          ],
          [
           2207969,
           48815
          ],
          [
           209142,
           186
          ],
          [
           44999588,
           532037
          ],
          [
           6813429,
           161918
          ],
          [
           7619981,
           146480
          ],
          [
           2465545,
           25375
          ],
          [
           1722546,
           9251
          ],
          [
           38008,
           116
          ],
          [
           4840714,
           12697
          ],
          [
           26168412,
           192013
          ],
          [
           156414,
           3610
          ],
          [
           33803572,
           74694
          ],
          [
           66391,
           161
          ],
          [
           1746997,
           14122
          ],
          [
           1502857,
           19072
          ],
          [
           343999,
           5689
          ],
          [
           5085,
           24
          ],
          [
           274247,
           3211
          ],
          [
           666432,
           2570
          ],
          [
           88889,
           1024
          ],
          [
           218876,
           671
          ],
          [
           976316,
           7384
          ],
          [
           1239904,
           10947
          ],
          [
           35836,
           709
          ],
          [
           7930,
           294
          ],
          [
           507269,
           6437
          ],
          [
           21497,
           87
          ],
          [
           1333228,
           9718
          ],
          [
           2319834,
           47995
          ],
          [
           97423102,
           1339160
          ],
          [
           384378,
           1000
          ],
          [
           68350,
           1425
          ],
          [
           88986,
           2686
          ],
          [
           5130847,
           37195
          ],
          [
           186694,
           316
          ],
          [
           33158,
           743
          ],
          [
           120422,
           882
          ],
          [
           16138,
           17
          ],
          [
           230354,
           1104
          ],
          [
           63774,
           997
          ],
          [
           309917,
           1054
          ],
          [
           42027,
           187
          ],
          [
           7692397,
           334699
          ],
          [
           26547,
           65
          ],
          [
           625153,
           12128
          ],
          [
           17049,
           67
          ],
          [
           1011170,
           2284
          ],
          [
           251280,
           2654
          ],
          [
           1403,
           8
          ],
          [
           1277082,
           16297
          ],
          [
           233654,
           2249
          ],
          [
           641324,
           19494
          ],
          [
           172121,
           4100
          ],
          [
           5393,
           1
          ],
          [
           1003447,
           12031
          ],
          [
           8618815,
           22986
          ],
          [
           80064,
           314
          ],
          [
           2390777,
           3376
          ],
          [
           16050,
           245
          ],
          [
           9515,
           315
          ],
          [
           267146,
           3155
          ],
          [
           349104,
           9946
          ],
          [
           14299,
           41
          ],
          [
           1489459,
           5732
          ],
          [
           399449,
           4628
          ],
          [
           1580631,
           30656
          ],
          [
           6243,
           9
          ],
          [
           703228,
           5708
          ],
          [
           1047587,
           8654
          ],
          [
           46864,
           670
          ],
          [
           735897,
           19978
          ],
          [
           4520727,
           221704
          ],
          [
           4115714,
           66702
          ],
          [
           6525385,
           119655
          ],
          [
           5621015,
           27424
          ],
          [
           1252713,
           5938
          ],
          [
           514524,
           690
          ],
          [
           494595,
           921
          ],
          [
           3478091,
           68409
          ],
          [
           23061960,
           400102
          ],
          [
           133194,
           1468
          ],
          [
           5507,
           5
          ],
          [
           6607,
           46
          ],
          [
           30147,
           410
          ],
          [
           12324,
           46
          ],
          [
           3426,
           2
          ],
          [
           9644,
           124
          ],
          [
           16778,
           31
          ],
          [
           24697,
           126
          ],
          [
           6599,
           80
          ],
          [
           841469,
           9646
          ],
          [
           89022,
           1971
          ],
          [
           2560024,
           18057
          ],
          [
           50937,
           172
          ],
          [
           7766,
           125
          ],
          [
           2626395,
           1872
          ],
          [
           11051,
           92
          ],
          [
           1867647,
           21167
          ],
          [
           1345384,
           9448
          ],
          [
           21611,
           153
          ],
          [
           27334,
           1361
          ],
          [
           4072533,
           102595
          ],
          [
           34571873,
           35934
          ],
          [
           18368,
           138
          ],
          [
           13980340,
           121852
          ],
          [
           672593,
           16882
          ],
          [
           63993,
           5046
          ],
          [
           82588,
           1408
          ],
          [
           2718433,
           24902
          ],
          [
           4415674,
           14065
          ],
          [
           57423,
           3163
          ],
          [
           17786,
           125
          ],
          [
           43078,
           846
          ],
          [
           4757728,
           34482
          ],
          [
           23460,
           138
          ],
          [
           39524,
           290
          ],
          [
           16839,
           12
          ],
          [
           191496,
           4390
          ],
          [
           1153361,
           29423
          ],
          [
           17004677,
           101419
          ],
          [
           6630,
           39
          ],
          [
           2943,
           1
          ],
          [
           171871,
           3632
          ],
          [
           5520483,
           109918
          ],
          [
           1067030,
           2349
          ],
          [
           24779150,
           230383
          ],
          [
           103436829,
           1136920
          ],
          [
           25389,
           132
          ],
          [
           244463792,
           2666760
          ],
          [
           1039238,
           7634
          ],
          [
           174123,
           1016
          ],
          [
           12019,
           14
          ],
          [
           552695,
           5856
          ],
          [
           11623987,
           43206
          ],
          [
           3550,
           8
          ],
          [
           11945,
           2159
          ],
          [
           349287,
           4069
          ],
          [
           265808,
           5718
          ]
         ],
         "geo": "geo",
         "hovertemplate": "<b>%{hovertext}</b><br><br>location=%{location}<br>total_cases=%{customdata[0]}<br>total_deaths=%{customdata[1]}<br>people_fully_vaccinated=%{z}<extra></extra>",
         "hovertext": [
          "Afghanistan",
          "Albania",
          "Algeria",
          "American Samoa",
          "Andorra",
          "Angola",
          "Anguilla",
          "Antigua and Barbuda",
          "Argentina",
          "Armenia",
          "Aruba",
          "Australia",
          "Austria",
          "Azerbaijan",
          "Bahamas",
          "Bahrain",
          "Bangladesh",
          "Barbados",
          "Belarus",
          "Belgium",
          "Belize",
          "Benin",
          "Bermuda",
          "Bhutan",
          "Bolivia",
          "Bonaire Sint Eustatius and Saba",
          "Bosnia and Herzegovina",
          "Botswana",
          "Brazil",
          "British Virgin Islands",
          "Brunei",
          "Bulgaria",
          "Burkina Faso",
          "Burundi",
          "Cambodia",
          "Cameroon",
          "Canada",
          "Cape Verde",
          "Cayman Islands",
          "Central African Republic",
          "Chad",
          "Chile",
          "China",
          "Colombia",
          "Comoros",
          "Congo",
          "Cook Islands",
          "Costa Rica",
          "Cote d'Ivoire",
          "Croatia",
          "Cuba",
          "Curacao",
          "Cyprus",
          "Czechia",
          "Democratic Republic of Congo",
          "Denmark",
          "Djibouti",
          "Dominica",
          "Dominican Republic",
          "Ecuador",
          "Egypt",
          "El Salvador",
          "Equatorial Guinea",
          "Eritrea",
          "Estonia",
          "Eswatini",
          "Ethiopia",
          "Faeroe Islands",
          "Fiji",
          "Finland",
          "France",
          "French Guiana",
          "French Polynesia",
          "Gabon",
          "Gambia",
          "Georgia",
          "Germany",
          "Ghana",
          "Gibraltar",
          "Greece",
          "Greenland",
          "Grenada",
          "Guadeloupe",
          "Guam",
          "Guatemala",
          "Guernsey",
          "Guinea",
          "Guinea-Bissau",
          "Guyana",
          "Haiti",
          "High income",
          "Honduras",
          "Hungary",
          "Iceland",
          "India",
          "Indonesia",
          "Iran",
          "Iraq",
          "Ireland",
          "Isle of Man",
          "Israel",
          "Italy",
          "Jamaica",
          "Japan",
          "Jersey",
          "Jordan",
          "Kazakhstan",
          "Kenya",
          "Kiribati",
          "Kosovo",
          "Kuwait",
          "Kyrgyzstan",
          "Laos",
          "Latvia",
          "Lebanon",
          "Lesotho",
          "Liberia",
          "Libya",
          "Liechtenstein",
          "Lithuania",
          "Low income",
          "Lower middle income",
          "Luxembourg",
          "Madagascar",
          "Malawi",
          "Malaysia",
          "Maldives",
          "Mali",
          "Malta",
          "Marshall Islands",
          "Martinique",
          "Mauritania",
          "Mauritius",
          "Mayotte",
          "Mexico",
          "Micronesia (country)",
          "Moldova",
          "Monaco",
          "Mongolia",
          "Montenegro",
          "Montserrat",
          "Morocco",
          "Mozambique",
          "Myanmar",
          "Namibia",
          "Nauru",
          "Nepal",
          "Netherlands",
          "New Caledonia",
          "New Zealand",
          "Nicaragua",
          "Niger",
          "Nigeria",
          "North Macedonia",
          "Northern Mariana Islands",
          "Norway",
          "Oman",
          "Pakistan",
          "Palau",
          "Palestine",
          "Panama",
          "Papua New Guinea",
          "Paraguay",
          "Peru",
          "Philippines",
          "Poland",
          "Portugal",
          "Puerto Rico",
          "Qatar",
          "Reunion",
          "Romania",
          "Russia",
          "Rwanda",
          "Saint Barthelemy",
          "Saint Kitts and Nevis",
          "Saint Lucia",
          "Saint Martin (French part)",
          "Saint Pierre and Miquelon",
          "Saint Vincent and the Grenadines",
          "Samoa",
          "San Marino",
          "Sao Tome and Principe",
          "Saudi Arabia",
          "Senegal",
          "Serbia",
          "Seychelles",
          "Sierra Leone",
          "Singapore",
          "Sint Maarten (Dutch part)",
          "Slovakia",
          "Slovenia",
          "Solomon Islands",
          "Somalia",
          "South Africa",
          "South Korea",
          "South Sudan",
          "Spain",
          "Sri Lanka",
          "Sudan",
          "Suriname",
          "Sweden",
          "Switzerland",
          "Syria",
          "Tajikistan",
          "Tanzania",
          "Thailand",
          "Timor",
          "Togo",
          "Tonga",
          "Trinidad and Tobago",
          "Tunisia",
          "Turkey",
          "Turks and Caicos Islands",
          "Tuvalu",
          "Uganda",
          "Ukraine",
          "United Arab Emirates",
          "United Kingdom",
          "United States",
          "United States Virgin Islands",
          "Upper middle income",
          "Uruguay",
          "Uzbekistan",
          "Vanuatu",
          "Venezuela",
          "Vietnam",
          "Wallis and Futuna",
          "Yemen",
          "Zambia",
          "Zimbabwe"
         ],
         "locationmode": "country names",
         "locations": [
          "Afghanistan",
          "Albania",
          "Algeria",
          "American Samoa",
          "Andorra",
          "Angola",
          "Anguilla",
          "Antigua and Barbuda",
          "Argentina",
          "Armenia",
          "Aruba",
          "Australia",
          "Austria",
          "Azerbaijan",
          "Bahamas",
          "Bahrain",
          "Bangladesh",
          "Barbados",
          "Belarus",
          "Belgium",
          "Belize",
          "Benin",
          "Bermuda",
          "Bhutan",
          "Bolivia",
          "Bonaire Sint Eustatius and Saba",
          "Bosnia and Herzegovina",
          "Botswana",
          "Brazil",
          "British Virgin Islands",
          "Brunei",
          "Bulgaria",
          "Burkina Faso",
          "Burundi",
          "Cambodia",
          "Cameroon",
          "Canada",
          "Cape Verde",
          "Cayman Islands",
          "Central African Republic",
          "Chad",
          "Chile",
          "China",
          "Colombia",
          "Comoros",
          "Congo",
          "Cook Islands",
          "Costa Rica",
          "Cote d'Ivoire",
          "Croatia",
          "Cuba",
          "Curacao",
          "Cyprus",
          "Czechia",
          "Democratic Republic of Congo",
          "Denmark",
          "Djibouti",
          "Dominica",
          "Dominican Republic",
          "Ecuador",
          "Egypt",
          "El Salvador",
          "Equatorial Guinea",
          "Eritrea",
          "Estonia",
          "Eswatini",
          "Ethiopia",
          "Faeroe Islands",
          "Fiji",
          "Finland",
          "France",
          "French Guiana",
          "French Polynesia",
          "Gabon",
          "Gambia",
          "Georgia",
          "Germany",
          "Ghana",
          "Gibraltar",
          "Greece",
          "Greenland",
          "Grenada",
          "Guadeloupe",
          "Guam",
          "Guatemala",
          "Guernsey",
          "Guinea",
          "Guinea-Bissau",
          "Guyana",
          "Haiti",
          "High income",
          "Honduras",
          "Hungary",
          "Iceland",
          "India",
          "Indonesia",
          "Iran",
          "Iraq",
          "Ireland",
          "Isle of Man",
          "Israel",
          "Italy",
          "Jamaica",
          "Japan",
          "Jersey",
          "Jordan",
          "Kazakhstan",
          "Kenya",
          "Kiribati",
          "Kosovo",
          "Kuwait",
          "Kyrgyzstan",
          "Laos",
          "Latvia",
          "Lebanon",
          "Lesotho",
          "Liberia",
          "Libya",
          "Liechtenstein",
          "Lithuania",
          "Low income",
          "Lower middle income",
          "Luxembourg",
          "Madagascar",
          "Malawi",
          "Malaysia",
          "Maldives",
          "Mali",
          "Malta",
          "Marshall Islands",
          "Martinique",
          "Mauritania",
          "Mauritius",
          "Mayotte",
          "Mexico",
          "Micronesia (country)",
          "Moldova",
          "Monaco",
          "Mongolia",
          "Montenegro",
          "Montserrat",
          "Morocco",
          "Mozambique",
          "Myanmar",
          "Namibia",
          "Nauru",
          "Nepal",
          "Netherlands",
          "New Caledonia",
          "New Zealand",
          "Nicaragua",
          "Niger",
          "Nigeria",
          "North Macedonia",
          "Northern Mariana Islands",
          "Norway",
          "Oman",
          "Pakistan",
          "Palau",
          "Palestine",
          "Panama",
          "Papua New Guinea",
          "Paraguay",
          "Peru",
          "Philippines",
          "Poland",
          "Portugal",
          "Puerto Rico",
          "Qatar",
          "Reunion",
          "Romania",
          "Russia",
          "Rwanda",
          "Saint Barthelemy",
          "Saint Kitts and Nevis",
          "Saint Lucia",
          "Saint Martin (French part)",
          "Saint Pierre and Miquelon",
          "Saint Vincent and the Grenadines",
          "Samoa",
          "San Marino",
          "Sao Tome and Principe",
          "Saudi Arabia",
          "Senegal",
          "Serbia",
          "Seychelles",
          "Sierra Leone",
          "Singapore",
          "Sint Maarten (Dutch part)",
          "Slovakia",
          "Slovenia",
          "Solomon Islands",
          "Somalia",
          "South Africa",
          "South Korea",
          "South Sudan",
          "Spain",
          "Sri Lanka",
          "Sudan",
          "Suriname",
          "Sweden",
          "Switzerland",
          "Syria",
          "Tajikistan",
          "Tanzania",
          "Thailand",
          "Timor",
          "Togo",
          "Tonga",
          "Trinidad and Tobago",
          "Tunisia",
          "Turkey",
          "Turks and Caicos Islands",
          "Tuvalu",
          "Uganda",
          "Ukraine",
          "United Arab Emirates",
          "United Kingdom",
          "United States",
          "United States Virgin Islands",
          "Upper middle income",
          "Uruguay",
          "Uzbekistan",
          "Vanuatu",
          "Venezuela",
          "Vietnam",
          "Wallis and Futuna",
          "Yemen",
          "Zambia",
          "Zimbabwe"
         ],
         "name": "",
         "type": "choropleth",
         "z": [
          17515354,
          1279231,
          6481186,
          null,
          53501,
          9472763,
          10380,
          62384,
          34897769,
          998071,
          84344,
          21648824,
          6683263,
          4862494,
          166972,
          1226796,
          142193276,
          155036,
          6355954,
          9169717,
          221402,
          2742837,
          47657,
          677669,
          6160585,
          16736,
          846080,
          1663490,
          176164186,
          18261,
          446714,
          2077932,
          5232347,
          36321,
          14683075,
          3173644,
          31762130,
          308720,
          60664,
          2484985,
          6127422,
          17700117,
          1276760000,
          37019801,
          397080,
          654119,
          14728,
          4358863,
          12164304,
          2251725,
          10031911,
          100885,
          646142,
          6893366,
          14399520,
          4716840,
          401208,
          30659,
          6114473,
          14240587,
          42337175,
          4344286,
          214032,
          null,
          861851,
          427335,
          43653006,
          40895,
          641194,
          4347780,
          53192478,
          null,
          186803,
          257471,
          539186,
          1276173,
          63563414,
          10780003,
          41465,
          7646615,
          38511,
          39034,
          null,
          null,
          7126305,
          52710,
          4725982,
          533741,
          381984,
          350403,
          929160112,
          5853689,
          6207249,
          290193,
          951985948,
          174893201,
          58582625,
          7944775,
          4063175,
          67106,
          6159825,
          47949615,
          760132,
          103380343,
          81882,
          4558313,
          10629063,
          11090440,
          81474,
          825082,
          3346114,
          1406016,
          5222417,
          1305976,
          2414223,
          938088,
          3730967,
          1236102,
          null,
          1880665,
          203953653,
          2049732903,
          462702,
          2628849,
          4223762,
          27529147,
          385167,
          3633589,
          471537,
          null,
          null,
          1540533,
          1088142,
          null,
          81849962,
          null,
          1078747,
          25667,
          2175617,
          284869,
          1952,
          23521989,
          21329745,
          35196377,
          550656,
          11346,
          24389063,
          11782254,
          184816,
          4182631,
          6117158,
          5483001,
          79729922,
          838181,
          null,
          4054726,
          3048826,
          140475871,
          null,
          1776973,
          3174155,
          321192,
          3546685,
          28699383,
          78443972,
          22649260,
          8906354,
          null,
          2852178,
          null,
          8114769,
          79702396,
          10399665,
          null,
          27000,
          54971,
          null,
          null,
          31632,
          177954,
          23633,
          111986,
          25433941,
          1503332,
          3278198,
          83565,
          4961886,
          5120969,
          26773,
          2577827,
          1222225,
          254352,
          7666835,
          21038797,
          44372679,
          4245286,
          40739123,
          14752827,
          13416394,
          237879,
          7593676,
          null,
          2358365,
          5191919,
          32165791,
          53486086,
          799627,
          1554066,
          77360,
          716898,
          6401841,
          53176961,
          30710,
          9505,
          13061126,
          15153577,
          9792266,
          50762968,
          230637348,
          null,
          1990292859,
          2903059,
          18438157,
          162250,
          14966671,
          85961564,
          6803,
          798451,
          9213802,
          4751270
         ]
        }
       ],
       "layout": {
        "autosize": true,
        "coloraxis": {
         "colorbar": {
          "title": {
           "text": "people_fully_vaccinated"
          }
         },
         "colorscale": [
          [
           0,
           "#440154"
          ],
          [
           0.1111111111111111,
           "#482878"
          ],
          [
           0.2222222222222222,
           "#3e4989"
          ],
          [
           0.3333333333333333,
           "#31688e"
          ],
          [
           0.4444444444444444,
           "#26828e"
          ],
          [
           0.5555555555555556,
           "#1f9e89"
          ],
          [
           0.6666666666666666,
           "#35b779"
          ],
          [
           0.7777777777777778,
           "#6ece58"
          ],
          [
           0.8888888888888888,
           "#b5de2b"
          ],
          [
           1,
           "#fde725"
          ]
         ]
        },
        "geo": {
         "center": {},
         "domain": {
          "x": [
           0,
           1
          ],
          "y": [
           0,
           1
          ]
         }
        },
        "legend": {
         "tracegroupgap": 0
        },
        "template": {
         "data": {
          "bar": [
           {
            "error_x": {
             "color": "#2a3f5f"
            },
            "error_y": {
             "color": "#2a3f5f"
            },
            "marker": {
             "line": {
              "color": "#E5ECF6",
              "width": 0.5
             },
             "pattern": {
              "fillmode": "overlay",
              "size": 10,
              "solidity": 0.2
             }
            },
            "type": "bar"
           }
          ],
          "barpolar": [
           {
            "marker": {
             "line": {
              "color": "#E5ECF6",
              "width": 0.5
             },
             "pattern": {
              "fillmode": "overlay",
              "size": 10,
              "solidity": 0.2
             }
            },
            "type": "barpolar"
           }
          ],
          "carpet": [
           {
            "aaxis": {
             "endlinecolor": "#2a3f5f",
             "gridcolor": "white",
             "linecolor": "white",
             "minorgridcolor": "white",
             "startlinecolor": "#2a3f5f"
            },
            "baxis": {
             "endlinecolor": "#2a3f5f",
             "gridcolor": "white",
             "linecolor": "white",
             "minorgridcolor": "white",
             "startlinecolor": "#2a3f5f"
            },
            "type": "carpet"
           }
          ],
          "choropleth": [
           {
            "colorbar": {
             "outlinewidth": 0,
             "ticks": ""
            },
            "type": "choropleth"
           }
          ],
          "contour": [
           {
            "colorbar": {
             "outlinewidth": 0,
             "ticks": ""
            },
            "colorscale": [
             [
              0,
              "#0d0887"
             ],
             [
              0.1111111111111111,
              "#46039f"
             ],
             [
              0.2222222222222222,
              "#7201a8"
             ],
             [
              0.3333333333333333,
              "#9c179e"
             ],
             [
              0.4444444444444444,
              "#bd3786"
             ],
             [
              0.5555555555555556,
              "#d8576b"
             ],
             [
              0.6666666666666666,
              "#ed7953"
             ],
             [
              0.7777777777777778,
              "#fb9f3a"
             ],
             [
              0.8888888888888888,
              "#fdca26"
             ],
             [
              1,
              "#f0f921"
             ]
            ],
            "type": "contour"
           }
          ],
          "contourcarpet": [
           {
            "colorbar": {
             "outlinewidth": 0,
             "ticks": ""
            },
            "type": "contourcarpet"
           }
          ],
          "heatmap": [
           {
            "colorbar": {
             "outlinewidth": 0,
             "ticks": ""
            },
            "colorscale": [
             [
              0,
              "#0d0887"
             ],
             [
              0.1111111111111111,
              "#46039f"
             ],
             [
              0.2222222222222222,
              "#7201a8"
             ],
             [
              0.3333333333333333,
              "#9c179e"
             ],
             [
              0.4444444444444444,
              "#bd3786"
             ],
             [
              0.5555555555555556,
              "#d8576b"
             ],
             [
              0.6666666666666666,
              "#ed7953"
             ],
             [
              0.7777777777777778,
              "#fb9f3a"
             ],
             [
              0.8888888888888888,
              "#fdca26"
             ],
             [
              1,
              "#f0f921"
             ]
            ],
            "type": "heatmap"
           }
          ],
          "heatmapgl": [
           {
            "colorbar": {
             "outlinewidth": 0,
             "ticks": ""
            },
            "colorscale": [
             [
              0,
              "#0d0887"
             ],
             [
              0.1111111111111111,
              "#46039f"
             ],
             [
              0.2222222222222222,
              "#7201a8"
             ],
             [
              0.3333333333333333,
              "#9c179e"
             ],
             [
              0.4444444444444444,
              "#bd3786"
             ],
             [
              0.5555555555555556,
              "#d8576b"
             ],
             [
              0.6666666666666666,
              "#ed7953"
             ],
             [
              0.7777777777777778,
              "#fb9f3a"
             ],
             [
              0.8888888888888888,
              "#fdca26"
             ],
             [
              1,
              "#f0f921"
             ]
            ],
            "type": "heatmapgl"
           }
          ],
          "histogram": [
           {
            "marker": {
             "pattern": {
              "fillmode": "overlay",
              "size": 10,
              "solidity": 0.2
             }
            },
            "type": "histogram"
           }
          ],
          "histogram2d": [
           {
            "colorbar": {
             "outlinewidth": 0,
             "ticks": ""
            },
            "colorscale": [
             [
              0,
              "#0d0887"
             ],
             [
              0.1111111111111111,
              "#46039f"
             ],
             [
              0.2222222222222222,
              "#7201a8"
             ],
             [
              0.3333333333333333,
              "#9c179e"
             ],
             [
              0.4444444444444444,
              "#bd3786"
             ],
             [
              0.5555555555555556,
              "#d8576b"
             ],
             [
              0.6666666666666666,
              "#ed7953"
             ],
             [
              0.7777777777777778,
              "#fb9f3a"
             ],
             [
              0.8888888888888888,
              "#fdca26"
             ],
             [
              1,
              "#f0f921"
             ]
            ],
            "type": "histogram2d"
           }
          ],
          "histogram2dcontour": [
           {
            "colorbar": {
             "outlinewidth": 0,
             "ticks": ""
            },
            "colorscale": [
             [
              0,
              "#0d0887"
             ],
             [
              0.1111111111111111,
              "#46039f"
             ],
             [
              0.2222222222222222,
              "#7201a8"
             ],
             [
              0.3333333333333333,
              "#9c179e"
             ],
             [
              0.4444444444444444,
              "#bd3786"
             ],
             [
              0.5555555555555556,
              "#d8576b"
             ],
             [
              0.6666666666666666,
              "#ed7953"
             ],
             [
              0.7777777777777778,
              "#fb9f3a"
             ],
             [
              0.8888888888888888,
              "#fdca26"
             ],
             [
              1,
              "#f0f921"
             ]
            ],
            "type": "histogram2dcontour"
           }
          ],
          "mesh3d": [
           {
            "colorbar": {
             "outlinewidth": 0,
             "ticks": ""
            },
            "type": "mesh3d"
           }
          ],
          "parcoords": [
           {
            "line": {
             "colorbar": {
              "outlinewidth": 0,
              "ticks": ""
             }
            },
            "type": "parcoords"
           }
          ],
          "pie": [
           {
            "automargin": true,
            "type": "pie"
           }
          ],
          "scatter": [
           {
            "fillpattern": {
             "fillmode": "overlay",
             "size": 10,
             "solidity": 0.2
            },
            "type": "scatter"
           }
          ],
          "scatter3d": [
           {
            "line": {
             "colorbar": {
              "outlinewidth": 0,
              "ticks": ""
             }
            },
            "marker": {
             "colorbar": {
              "outlinewidth": 0,
              "ticks": ""
             }
            },
            "type": "scatter3d"
           }
          ],
          "scattercarpet": [
           {
            "marker": {
             "colorbar": {
              "outlinewidth": 0,
              "ticks": ""
             }
            },
            "type": "scattercarpet"
           }
          ],
          "scattergeo": [
           {
            "marker": {
             "colorbar": {
              "outlinewidth": 0,
              "ticks": ""
             }
            },
            "type": "scattergeo"
           }
          ],
          "scattergl": [
           {
            "marker": {
             "colorbar": {
              "outlinewidth": 0,
              "ticks": ""
             }
            },
            "type": "scattergl"
           }
          ],
          "scattermapbox": [
           {
            "marker": {
             "colorbar": {
              "outlinewidth": 0,
              "ticks": ""
             }
            },
            "type": "scattermapbox"
           }
          ],
          "scatterpolar": [
           {
            "marker": {
             "colorbar": {
              "outlinewidth": 0,
              "ticks": ""
             }
            },
            "type": "scatterpolar"
           }
          ],
          "scatterpolargl": [
           {
            "marker": {
             "colorbar": {
              "outlinewidth": 0,
              "ticks": ""
             }
            },
            "type": "scatterpolargl"
           }
          ],
          "scatterternary": [
           {
            "marker": {
             "colorbar": {
              "outlinewidth": 0,
              "ticks": ""
             }
            },
            "type": "scatterternary"
           }
          ],
          "surface": [
           {
            "colorbar": {
             "outlinewidth": 0,
             "ticks": ""
            },
            "colorscale": [
             [
              0,
              "#0d0887"
             ],
             [
              0.1111111111111111,
              "#46039f"
             ],
             [
              0.2222222222222222,
              "#7201a8"
             ],
             [
              0.3333333333333333,
              "#9c179e"
             ],
             [
              0.4444444444444444,
              "#bd3786"
             ],
             [
              0.5555555555555556,
              "#d8576b"
             ],
             [
              0.6666666666666666,
              "#ed7953"
             ],
             [
              0.7777777777777778,
              "#fb9f3a"
             ],
             [
              0.8888888888888888,
              "#fdca26"
             ],
             [
              1,
              "#f0f921"
             ]
            ],
            "type": "surface"
           }
          ],
          "table": [
           {
            "cells": {
             "fill": {
              "color": "#EBF0F8"
             },
             "line": {
              "color": "white"
             }
            },
            "header": {
             "fill": {
              "color": "#C8D4E3"
             },
             "line": {
              "color": "white"
             }
            },
            "type": "table"
           }
          ]
         },
         "layout": {
          "annotationdefaults": {
           "arrowcolor": "#2a3f5f",
           "arrowhead": 0,
           "arrowwidth": 1
          },
          "autotypenumbers": "strict",
          "coloraxis": {
           "colorbar": {
            "outlinewidth": 0,
            "ticks": ""
           }
          },
          "colorscale": {
           "diverging": [
            [
             0,
             "#8e0152"
            ],
            [
             0.1,
             "#c51b7d"
            ],
            [
             0.2,
             "#de77ae"
            ],
            [
             0.3,
             "#f1b6da"
            ],
            [
             0.4,
             "#fde0ef"
            ],
            [
             0.5,
             "#f7f7f7"
            ],
            [
             0.6,
             "#e6f5d0"
            ],
            [
             0.7,
             "#b8e186"
            ],
            [
             0.8,
             "#7fbc41"
            ],
            [
             0.9,
             "#4d9221"
            ],
            [
             1,
             "#276419"
            ]
           ],
           "sequential": [
            [
             0,
             "#0d0887"
            ],
            [
             0.1111111111111111,
             "#46039f"
            ],
            [
             0.2222222222222222,
             "#7201a8"
            ],
            [
             0.3333333333333333,
             "#9c179e"
            ],
            [
             0.4444444444444444,
             "#bd3786"
            ],
            [
             0.5555555555555556,
             "#d8576b"
            ],
            [
             0.6666666666666666,
             "#ed7953"
            ],
            [
             0.7777777777777778,
             "#fb9f3a"
            ],
            [
             0.8888888888888888,
             "#fdca26"
            ],
            [
             1,
             "#f0f921"
            ]
           ],
           "sequentialminus": [
            [
             0,
             "#0d0887"
            ],
            [
             0.1111111111111111,
             "#46039f"
            ],
            [
             0.2222222222222222,
             "#7201a8"
            ],
            [
             0.3333333333333333,
             "#9c179e"
            ],
            [
             0.4444444444444444,
             "#bd3786"
            ],
            [
             0.5555555555555556,
             "#d8576b"
            ],
            [
             0.6666666666666666,
             "#ed7953"
            ],
            [
             0.7777777777777778,
             "#fb9f3a"
            ],
            [
             0.8888888888888888,
             "#fdca26"
            ],
            [
             1,
             "#f0f921"
            ]
           ]
          },
          "colorway": [
           "#636efa",
           "#EF553B",
           "#00cc96",
           "#ab63fa",
           "#FFA15A",
           "#19d3f3",
           "#FF6692",
           "#B6E880",
           "#FF97FF",
           "#FECB52"
          ],
          "font": {
           "color": "#2a3f5f"
          },
          "geo": {
           "bgcolor": "white",
           "lakecolor": "white",
           "landcolor": "#E5ECF6",
           "showlakes": true,
           "showland": true,
           "subunitcolor": "white"
          },
          "hoverlabel": {
           "align": "left"
          },
          "hovermode": "closest",
          "mapbox": {
           "style": "light"
          },
          "paper_bgcolor": "white",
          "plot_bgcolor": "#E5ECF6",
          "polar": {
           "angularaxis": {
            "gridcolor": "white",
            "linecolor": "white",
            "ticks": ""
           },
           "bgcolor": "#E5ECF6",
           "radialaxis": {
            "gridcolor": "white",
            "linecolor": "white",
            "ticks": ""
           }
          },
          "scene": {
           "xaxis": {
            "backgroundcolor": "#E5ECF6",
            "gridcolor": "white",
            "gridwidth": 2,
            "linecolor": "white",
            "showbackground": true,
            "ticks": "",
            "zerolinecolor": "white"
           },
           "yaxis": {
            "backgroundcolor": "#E5ECF6",
            "gridcolor": "white",
            "gridwidth": 2,
            "linecolor": "white",
            "showbackground": true,
            "ticks": "",
            "zerolinecolor": "white"
           },
           "zaxis": {
            "backgroundcolor": "#E5ECF6",
            "gridcolor": "white",
            "gridwidth": 2,
            "linecolor": "white",
            "showbackground": true,
            "ticks": "",
            "zerolinecolor": "white"
           }
          },
          "shapedefaults": {
           "line": {
            "color": "#2a3f5f"
           }
          },
          "ternary": {
           "aaxis": {
            "gridcolor": "white",
            "linecolor": "white",
            "ticks": ""
           },
           "baxis": {
            "gridcolor": "white",
            "linecolor": "white",
            "ticks": ""
           },
           "bgcolor": "#E5ECF6",
           "caxis": {
            "gridcolor": "white",
            "linecolor": "white",
            "ticks": ""
           }
          },
          "title": {
           "x": 0.05
          },
          "xaxis": {
           "automargin": true,
           "gridcolor": "white",
           "linecolor": "white",
           "ticks": "",
           "title": {
            "standoff": 15
           },
           "zerolinecolor": "white",
           "zerolinewidth": 2
          },
          "yaxis": {
           "automargin": true,
           "gridcolor": "white",
           "linecolor": "white",
           "ticks": "",
           "title": {
            "standoff": 15
           },
           "zerolinecolor": "white",
           "zerolinewidth": 2
          }
         }
        },
        "title": {
         "text": "Percentage of Population Fully Vaccinated by Country"
        }
       }
      },
      "image/png": "[encoded data removed]",
      "text/html": [
       "<div>                            <div id=\"67875238-8407-4265-a271-4bc9d9596a2f\" class=\"plotly-graph-div\" style=\"height:525px; width:100%;\"></div>            <script type=\"text/javascript\">                require([\"plotly\"], function(Plotly) {                    window.PLOTLYENV=window.PLOTLYENV || {};                                    if (document.getElementById(\"67875238-8407-4265-a271-4bc9d9596a2f\")) {                    Plotly.newPlot(                        \"67875238-8407-4265-a271-4bc9d9596a2f\",                        [{\"coloraxis\":\"coloraxis\",\"customdata\":[[226816.0,7952.0],[334090.0,3604.0],[271945.0,6881.0],[8359.0,34.0],[48015.0,159.0],[105972.0,1936.0],[3904.0,12.0],[9106.0,146.0],[10054576.0,130472.0],[450334.0,8762.0],[44224.0,292.0],[11618144.0,23188.0],[6081287.0,22534.0],[833550.0,10337.0],[38084.0,844.0],[696614.0,1536.0],[2045843.0,29477.0],[110074.0,620.0],[994037.0,7118.0],[4817196.0,34339.0],[71060.0,688.0],[28036.0,163.0],[18860.0,165.0],[62697.0,21.0],[1209081.0,22404.0],[11922.0,41.0],[403203.0,16357.0],[330298.0,2800.0],[37721749.0,704659.0],[7305.0,64.0],[311905.0,163.0],[1302188.0,38414.0],[22056.0,396.0],[54366.0,15.0],[138941.0,3056.0],[125090.0,1974.0],[4716205.0,53297.0],[64401.0,415.0],[31472.0,37.0],[15367.0,113.0],[7698.0,194.0],[5288843.0,61607.0],[99315684.0,121742.0],[6382432.0,142942.0],[9109.0,160.0],[25196.0,389.0],[7168.0,2.0],[1238884.0,9428.0],[88338.0,835.0],[1275762.0,18374.0],[1115103.0,8530.0],[45883.0,305.0],[660854.0,1364.0],[4657581.0,42884.0],[99181.0,1468.0],[3417017.0,8824.0],[15690.0,189.0],[15798.0,74.0],[667074.0,4384.0],[1069139.0,36043.0],[516023.0,24830.0],[201808.0,4230.0],[17130.0,183.0],[10189.0,103.0],[602187.0,2902.0],[75052.0,1427.0],[501060.0,7574.0],[34658.0,28.0],[69047.0,885.0],[1487090.0,10321.0],[38997490.0,167985.0],[98041.0,413.0],[78642.0,649.0],[48992.0,307.0],[12626.0,372.0],[1855289.0,17132.0],[38437756.0,174979.0],[171653.0,1462.0],[20550.0,113.0],[5405742.0,37572.0],[11971.0,21.0],[19693.0,238.0],[203235.0,1021.0],[52032.0,417.0],[1271070.0,20235.0],[35326.0,67.0],[38563.0,468.0],[9614.0,177.0],[73388.0,1299.0],[34368.0,860.0],[425988398.0,2914272.0],[474587.0,11127.0],[2207969.0,48815.0],[209142.0,186.0],[44999588.0,532037.0],[6813429.0,161918.0],[7619981.0,146480.0],[2465545.0,25375.0],[1722546.0,9251.0],[38008.0,116.0],[4840714.0,12697.0],[26168412.0,192013.0],[156414.0,3610.0],[33803572.0,74694.0],[66391.0,161.0],[1746997.0,14122.0],[1502857.0,19072.0],[343999.0,5689.0],[5085.0,24.0],[274247.0,3211.0],[666432.0,2570.0],[88889.0,1024.0],[218876.0,671.0],[976316.0,7384.0],[1239904.0,10947.0],[35836.0,709.0],[7930.0,294.0],[507269.0,6437.0],[21497.0,87.0],[1333228.0,9718.0],[2319834.0,47995.0],[97423102.0,1339160.0],[384378.0,1000.0],[68350.0,1425.0],[88986.0,2686.0],[5130847.0,37195.0],[186694.0,316.0],[33158.0,743.0],[120422.0,882.0],[16138.0,17.0],[230354.0,1104.0],[63774.0,997.0],[309917.0,1054.0],[42027.0,187.0],[7692397.0,334699.0],[26547.0,65.0],[625153.0,12128.0],[17049.0,67.0],[1011170.0,2284.0],[251280.0,2654.0],[1403.0,8.0],[1277082.0,16297.0],[233654.0,2249.0],[641324.0,19494.0],[172121.0,4100.0],[5393.0,1.0],[1003447.0,12031.0],[8618815.0,22986.0],[80064.0,314.0],[2390777.0,3376.0],[16050.0,245.0],[9515.0,315.0],[267146.0,3155.0],[349104.0,9946.0],[14299.0,41.0],[1489459.0,5732.0],[399449.0,4628.0],[1580631.0,30656.0],[6243.0,9.0],[703228.0,5708.0],[1047587.0,8654.0],[46864.0,670.0],[735897.0,19978.0],[4520727.0,221704.0],[4115714.0,66702.0],[6525385.0,119655.0],[5621015.0,27424.0],[1252713.0,5938.0],[514524.0,690.0],[494595.0,921.0],[3478091.0,68409.0],[23061960.0,400102.0],[133194.0,1468.0],[5507.0,5.0],[6607.0,46.0],[30147.0,410.0],[12324.0,46.0],[3426.0,2.0],[9644.0,124.0],[16778.0,31.0],[24697.0,126.0],[6599.0,80.0],[841469.0,9646.0],[89022.0,1971.0],[2560024.0,18057.0],[50937.0,172.0],[7766.0,125.0],[2626395.0,1872.0],[11051.0,92.0],[1867647.0,21167.0],[1345384.0,9448.0],[21611.0,153.0],[27334.0,1361.0],[4072533.0,102595.0],[34571873.0,35934.0],[18368.0,138.0],[13980340.0,121852.0],[672593.0,16882.0],[63993.0,5046.0],[82588.0,1408.0],[2718433.0,24902.0],[4415674.0,14065.0],[57423.0,3163.0],[17786.0,125.0],[43078.0,846.0],[4757728.0,34482.0],[23460.0,138.0],[39524.0,290.0],[16839.0,12.0],[191496.0,4390.0],[1153361.0,29423.0],[17004677.0,101419.0],[6630.0,39.0],[2943.0,1.0],[171871.0,3632.0],[5520483.0,109918.0],[1067030.0,2349.0],[24779150.0,230383.0],[103436829.0,1136920.0],[25389.0,132.0],[244463792.0,2666760.0],[1039238.0,7634.0],[174123.0,1016.0],[12019.0,14.0],[552695.0,5856.0],[11623987.0,43206.0],[3550.0,8.0],[11945.0,2159.0],[349287.0,4069.0],[265808.0,5718.0]],\"geo\":\"geo\",\"hovertemplate\":\"<b>%{hovertext}</b><br><br>location=%{location}<br>total_cases=%{customdata[0]}<br>total_deaths=%{customdata[1]}<br>people_fully_vaccinated=%{z}<extra></extra>\",\"hovertext\":[\"Afghanistan\",\"Albania\",\"Algeria\",\"American Samoa\",\"Andorra\",\"Angola\",\"Anguilla\",\"Antigua and Barbuda\",\"Argentina\",\"Armenia\",\"Aruba\",\"Australia\",\"Austria\",\"Azerbaijan\",\"Bahamas\",\"Bahrain\",\"Bangladesh\",\"Barbados\",\"Belarus\",\"Belgium\",\"Belize\",\"Benin\",\"Bermuda\",\"Bhutan\",\"Bolivia\",\"Bonaire Sint Eustatius and Saba\",\"Bosnia and Herzegovina\",\"Botswana\",\"Brazil\",\"British Virgin Islands\",\"Brunei\",\"Bulgaria\",\"Burkina Faso\",\"Burundi\",\"Cambodia\",\"Cameroon\",\"Canada\",\"Cape Verde\",\"Cayman Islands\",\"Central African Republic\",\"Chad\",\"Chile\",\"China\",\"Colombia\",\"Comoros\",\"Congo\",\"Cook Islands\",\"Costa Rica\",\"Cote d'Ivoire\",\"Croatia\",\"Cuba\",\"Curacao\",\"Cyprus\",\"Czechia\",\"Democratic Republic of Congo\",\"Denmark\",\"Djibouti\",\"Dominica\",\"Dominican Republic\",\"Ecuador\",\"Egypt\",\"El Salvador\",\"Equatorial Guinea\",\"Eritrea\",\"Estonia\",\"Eswatini\",\"Ethiopia\",\"Faeroe Islands\",\"Fiji\",\"Finland\",\"France\",\"French Guiana\",\"French Polynesia\",\"Gabon\",\"Gambia\",\"Georgia\",\"Germany\",\"Ghana\",\"Gibraltar\",\"Greece\",\"Greenland\",\"Grenada\",\"Guadeloupe\",\"Guam\",\"Guatemala\",\"Guernsey\",\"Guinea\",\"Guinea-Bissau\",\"Guyana\",\"Haiti\",\"High income\",\"Honduras\",\"Hungary\",\"Iceland\",\"India\",\"Indonesia\",\"Iran\",\"Iraq\",\"Ireland\",\"Isle of Man\",\"Israel\",\"Italy\",\"Jamaica\",\"Japan\",\"Jersey\",\"Jordan\",\"Kazakhstan\",\"Kenya\",\"Kiribati\",\"Kosovo\",\"Kuwait\",\"Kyrgyzstan\",\"Laos\",\"Latvia\",\"Lebanon\",\"Lesotho\",\"Liberia\",\"Libya\",\"Liechtenstein\",\"Lithuania\",\"Low income\",\"Lower middle income\",\"Luxembourg\",\"Madagascar\",\"Malawi\",\"Malaysia\",\"Maldives\",\"Mali\",\"Malta\",\"Marshall Islands\",\"Martinique\",\"Mauritania\",\"Mauritius\",\"Mayotte\",\"Mexico\",\"Micronesia (country)\",\"Moldova\",\"Monaco\",\"Mongolia\",\"Montenegro\",\"Montserrat\",\"Morocco\",\"Mozambique\",\"Myanmar\",\"Namibia\",\"Nauru\",\"Nepal\",\"Netherlands\",\"New Caledonia\",\"New Zealand\",\"Nicaragua\",\"Niger\",\"Nigeria\",\"North Macedonia\",\"Northern Mariana Islands\",\"Norway\",\"Oman\",\"Pakistan\",\"Palau\",\"Palestine\",\"Panama\",\"Papua New Guinea\",\"Paraguay\",\"Peru\",\"Philippines\",\"Poland\",\"Portugal\",\"Puerto Rico\",\"Qatar\",\"Reunion\",\"Romania\",\"Russia\",\"Rwanda\",\"Saint Barthelemy\",\"Saint Kitts and Nevis\",\"Saint Lucia\",\"Saint Martin (French part)\",\"Saint Pierre and Miquelon\",\"Saint Vincent and the Grenadines\",\"Samoa\",\"San Marino\",\"Sao Tome and Principe\",\"Saudi Arabia\",\"Senegal\",\"Serbia\",\"Seychelles\",\"Sierra Leone\",\"Singapore\",\"Sint Maarten (Dutch part)\",\"Slovakia\",\"Slovenia\",\"Solomon Islands\",\"Somalia\",\"South Africa\",\"South Korea\",\"South Sudan\",\"Spain\",\"Sri Lanka\",\"Sudan\",\"Suriname\",\"Sweden\",\"Switzerland\",\"Syria\",\"Tajikistan\",\"Tanzania\",\"Thailand\",\"Timor\",\"Togo\",\"Tonga\",\"Trinidad and Tobago\",\"Tunisia\",\"Turkey\",\"Turks and Caicos Islands\",\"Tuvalu\",\"Uganda\",\"Ukraine\",\"United Arab Emirates\",\"United Kingdom\",\"United States\",\"United States Virgin Islands\",\"Upper middle income\",\"Uruguay\",\"Uzbekistan\",\"Vanuatu\",\"Venezuela\",\"Vietnam\",\"Wallis and Futuna\",\"Yemen\",\"Zambia\",\"Zimbabwe\"],\"locationmode\":\"country names\",\"locations\":[\"Afghanistan\",\"Albania\",\"Algeria\",\"American Samoa\",\"Andorra\",\"Angola\",\"Anguilla\",\"Antigua and Barbuda\",\"Argentina\",\"Armenia\",\"Aruba\",\"Australia\",\"Austria\",\"Azerbaijan\",\"Bahamas\",\"Bahrain\",\"Bangladesh\",\"Barbados\",\"Belarus\",\"Belgium\",\"Belize\",\"Benin\",\"Bermuda\",\"Bhutan\",\"Bolivia\",\"Bonaire Sint Eustatius and Saba\",\"Bosnia and Herzegovina\",\"Botswana\",\"Brazil\",\"British Virgin Islands\",\"Brunei\",\"Bulgaria\",\"Burkina Faso\",\"Burundi\",\"Cambodia\",\"Cameroon\",\"Canada\",\"Cape Verde\",\"Cayman Islands\",\"Central African Republic\",\"Chad\",\"Chile\",\"China\",\"Colombia\",\"Comoros\",\"Congo\",\"Cook Islands\",\"Costa Rica\",\"Cote d'Ivoire\",\"Croatia\",\"Cuba\",\"Curacao\",\"Cyprus\",\"Czechia\",\"Democratic Republic of Congo\",\"Denmark\",\"Djibouti\",\"Dominica\",\"Dominican Republic\",\"Ecuador\",\"Egypt\",\"El Salvador\",\"Equatorial Guinea\",\"Eritrea\",\"Estonia\",\"Eswatini\",\"Ethiopia\",\"Faeroe Islands\",\"Fiji\",\"Finland\",\"France\",\"French Guiana\",\"French Polynesia\",\"Gabon\",\"Gambia\",\"Georgia\",\"Germany\",\"Ghana\",\"Gibraltar\",\"Greece\",\"Greenland\",\"Grenada\",\"Guadeloupe\",\"Guam\",\"Guatemala\",\"Guernsey\",\"Guinea\",\"Guinea-Bissau\",\"Guyana\",\"Haiti\",\"High income\",\"Honduras\",\"Hungary\",\"Iceland\",\"India\",\"Indonesia\",\"Iran\",\"Iraq\",\"Ireland\",\"Isle of Man\",\"Israel\",\"Italy\",\"Jamaica\",\"Japan\",\"Jersey\",\"Jordan\",\"Kazakhstan\",\"Kenya\",\"Kiribati\",\"Kosovo\",\"Kuwait\",\"Kyrgyzstan\",\"Laos\",\"Latvia\",\"Lebanon\",\"Lesotho\",\"Liberia\",\"Libya\",\"Liechtenstein\",\"Lithuania\",\"Low income\",\"Lower middle income\",\"Luxembourg\",\"Madagascar\",\"Malawi\",\"Malaysia\",\"Maldives\",\"Mali\",\"Malta\",\"Marshall Islands\",\"Martinique\",\"Mauritania\",\"Mauritius\",\"Mayotte\",\"Mexico\",\"Micronesia (country)\",\"Moldova\",\"Monaco\",\"Mongolia\",\"Montenegro\",\"Montserrat\",\"Morocco\",\"Mozambique\",\"Myanmar\",\"Namibia\",\"Nauru\",\"Nepal\",\"Netherlands\",\"New Caledonia\",\"New Zealand\",\"Nicaragua\",\"Niger\",\"Nigeria\",\"North Macedonia\",\"Northern Mariana Islands\",\"Norway\",\"Oman\",\"Pakistan\",\"Palau\",\"Palestine\",\"Panama\",\"Papua New Guinea\",\"Paraguay\",\"Peru\",\"Philippines\",\"Poland\",\"Portugal\",\"Puerto Rico\",\"Qatar\",\"Reunion\",\"Romania\",\"Russia\",\"Rwanda\",\"Saint Barthelemy\",\"Saint Kitts and Nevis\",\"Saint Lucia\",\"Saint Martin (French part)\",\"Saint Pierre and Miquelon\",\"Saint Vincent and the Grenadines\",\"Samoa\",\"San Marino\",\"Sao Tome and Principe\",\"Saudi Arabia\",\"Senegal\",\"Serbia\",\"Seychelles\",\"Sierra Leone\",\"Singapore\",\"Sint Maarten (Dutch part)\",\"Slovakia\",\"Slovenia\",\"Solomon Islands\",\"Somalia\",\"South Africa\",\"South Korea\",\"South Sudan\",\"Spain\",\"Sri Lanka\",\"Sudan\",\"Suriname\",\"Sweden\",\"Switzerland\",\"Syria\",\"Tajikistan\",\"Tanzania\",\"Thailand\",\"Timor\",\"Togo\",\"Tonga\",\"Trinidad and Tobago\",\"Tunisia\",\"Turkey\",\"Turks and Caicos Islands\",\"Tuvalu\",\"Uganda\",\"Ukraine\",\"United Arab Emirates\",\"United Kingdom\",\"United States\",\"United States Virgin Islands\",\"Upper middle income\",\"Uruguay\",\"Uzbekistan\",\"Vanuatu\",\"Venezuela\",\"Vietnam\",\"Wallis and Futuna\",\"Yemen\",\"Zambia\",\"Zimbabwe\"],\"name\":\"\",\"z\":[17515354.0,1279231.0,6481186.0,null,53501.0,9472763.0,10380.0,62384.0,34897769.0,998071.0,84344.0,21648824.0,6683263.0,4862494.0,166972.0,1226796.0,142193276.0,155036.0,6355954.0,9169717.0,221402.0,2742837.0,47657.0,677669.0,6160585.0,16736.0,846080.0,1663490.0,176164186.0,18261.0,446714.0,2077932.0,5232347.0,36321.0,14683075.0,3173644.0,31762130.0,308720.0,60664.0,2484985.0,6127422.0,17700117.0,1276760000.0,37019801.0,397080.0,654119.0,14728.0,4358863.0,12164304.0,2251725.0,10031911.0,100885.0,646142.0,6893366.0,14399520.0,4716840.0,401208.0,30659.0,6114473.0,14240587.0,42337175.0,4344286.0,214032.0,null,861851.0,427335.0,43653006.0,40895.0,641194.0,4347780.0,53192478.0,null,186803.0,257471.0,539186.0,1276173.0,63563414.0,10780003.0,41465.0,7646615.0,38511.0,39034.0,null,null,7126305.0,52710.0,4725982.0,533741.0,381984.0,350403.0,929160112.0,5853689.0,6207249.0,290193.0,951985948.0,174893201.0,58582625.0,7944775.0,4063175.0,67106.0,6159825.0,47949615.0,760132.0,103380343.0,81882.0,4558313.0,10629063.0,11090440.0,81474.0,825082.0,3346114.0,1406016.0,5222417.0,1305976.0,2414223.0,938088.0,3730967.0,1236102.0,null,1880665.0,203953653.0,2049732903.0,462702.0,2628849.0,4223762.0,27529147.0,385167.0,3633589.0,471537.0,null,null,1540533.0,1088142.0,null,81849962.0,null,1078747.0,25667.0,2175617.0,284869.0,1952.0,23521989.0,21329745.0,35196377.0,550656.0,11346.0,24389063.0,11782254.0,184816.0,4182631.0,6117158.0,5483001.0,79729922.0,838181.0,null,4054726.0,3048826.0,140475871.0,null,1776973.0,3174155.0,321192.0,3546685.0,28699383.0,78443972.0,22649260.0,8906354.0,null,2852178.0,null,8114769.0,79702396.0,10399665.0,null,27000.0,54971.0,null,null,31632.0,177954.0,23633.0,111986.0,25433941.0,1503332.0,3278198.0,83565.0,4961886.0,5120969.0,26773.0,2577827.0,1222225.0,254352.0,7666835.0,21038797.0,44372679.0,4245286.0,40739123.0,14752827.0,13416394.0,237879.0,7593676.0,null,2358365.0,5191919.0,32165791.0,53486086.0,799627.0,1554066.0,77360.0,716898.0,6401841.0,53176961.0,30710.0,9505.0,13061126.0,15153577.0,9792266.0,50762968.0,230637348.0,null,1990292859.0,2903059.0,18438157.0,162250.0,14966671.0,85961564.0,6803.0,798451.0,9213802.0,4751270.0],\"type\":\"choropleth\"}],                        {\"template\":{\"data\":{\"histogram2dcontour\":[{\"type\":\"histogram2dcontour\",\"colorbar\":{\"outlinewidth\":0,\"ticks\":\"\"},\"colorscale\":[[0.0,\"#0d0887\"],[0.1111111111111111,\"#46039f\"],[0.2222222222222222,\"#7201a8\"],[0.3333333333333333,\"#9c179e\"],[0.4444444444444444,\"#bd3786\"],[0.5555555555555556,\"#d8576b\"],[0.6666666666666666,\"#ed7953\"],[0.7777777777777778,\"#fb9f3a\"],[0.8888888888888888,\"#fdca26\"],[1.0,\"#f0f921\"]]}],\"choropleth\":[{\"type\":\"choropleth\",\"colorbar\":{\"outlinewidth\":0,\"ticks\":\"\"}}],\"histogram2d\":[{\"type\":\"histogram2d\",\"colorbar\":{\"outlinewidth\":0,\"ticks\":\"\"},\"colorscale\":[[0.0,\"#0d0887\"],[0.1111111111111111,\"#46039f\"],[0.2222222222222222,\"#7201a8\"],[0.3333333333333333,\"#9c179e\"],[0.4444444444444444,\"#bd3786\"],[0.5555555555555556,\"#d8576b\"],[0.6666666666666666,\"#ed7953\"],[0.7777777777777778,\"#fb9f3a\"],[0.8888888888888888,\"#fdca26\"],[1.0,\"#f0f921\"]]}],\"heatmap\":[{\"type\":\"heatmap\",\"colorbar\":{\"outlinewidth\":0,\"ticks\":\"\"},\"colorscale\":[[0.0,\"#0d0887\"],[0.1111111111111111,\"#46039f\"],[0.2222222222222222,\"#7201a8\"],[0.3333333333333333,\"#9c179e\"],[0.4444444444444444,\"#bd3786\"],[0.5555555555555556,\"#d8576b\"],[0.6666666666666666,\"#ed7953\"],[0.7777777777777778,\"#fb9f3a\"],[0.8888888888888888,\"#fdca26\"],[1.0,\"#f0f921\"]]}],\"heatmapgl\":[{\"type\":\"heatmapgl\",\"colorbar\":{\"outlinewidth\":0,\"ticks\":\"\"},\"colorscale\":[[0.0,\"#0d0887\"],[0.1111111111111111,\"#46039f\"],[0.2222222222222222,\"#7201a8\"],[0.3333333333333333,\"#9c179e\"],[0.4444444444444444,\"#bd3786\"],[0.5555555555555556,\"#d8576b\"],[0.6666666666666666,\"#ed7953\"],[0.7777777777777778,\"#fb9f3a\"],[0.8888888888888888,\"#fdca26\"],[1.0,\"#f0f921\"]]}],\"contourcarpet\":[{\"type\":\"contourcarpet\",\"colorbar\":{\"outlinewidth\":0,\"ticks\":\"\"}}],\"contour\":[{\"type\":\"contour\",\"colorbar\":{\"outlinewidth\":0,\"ticks\":\"\"},\"colorscale\":[[0.0,\"#0d0887\"],[0.1111111111111111,\"#46039f\"],[0.2222222222222222,\"#7201a8\"],[0.3333333333333333,\"#9c179e\"],[0.4444444444444444,\"#bd3786\"],[0.5555555555555556,\"#d8576b\"],[0.6666666666666666,\"#ed7953\"],[0.7777777777777778,\"#fb9f3a\"],[0.8888888888888888,\"#fdca26\"],[1.0,\"#f0f921\"]]}],\"surface\":[{\"type\":\"surface\",\"colorbar\":{\"outlinewidth\":0,\"ticks\":\"\"},\"colorscale\":[[0.0,\"#0d0887\"],[0.1111111111111111,\"#46039f\"],[0.2222222222222222,\"#7201a8\"],[0.3333333333333333,\"#9c179e\"],[0.4444444444444444,\"#bd3786\"],[0.5555555555555556,\"#d8576b\"],[0.6666666666666666,\"#ed7953\"],[0.7777777777777778,\"#fb9f3a\"],[0.8888888888888888,\"#fdca26\"],[1.0,\"#f0f921\"]]}],\"mesh3d\":[{\"type\":\"mesh3d\",\"colorbar\":{\"outlinewidth\":0,\"ticks\":\"\"}}],\"scatter\":[{\"fillpattern\":{\"fillmode\":\"overlay\",\"size\":10,\"solidity\":0.2},\"type\":\"scatter\"}],\"parcoords\":[{\"type\":\"parcoords\",\"line\":{\"colorbar\":{\"outlinewidth\":0,\"ticks\":\"\"}}}],\"scatterpolargl\":[{\"type\":\"scatterpolargl\",\"marker\":{\"colorbar\":{\"outlinewidth\":0,\"ticks\":\"\"}}}],\"bar\":[{\"error_x\":{\"color\":\"#2a3f5f\"},\"error_y\":{\"color\":\"#2a3f5f\"},\"marker\":{\"line\":{\"color\":\"#E5ECF6\",\"width\":0.5},\"pattern\":{\"fillmode\":\"overlay\",\"size\":10,\"solidity\":0.2}},\"type\":\"bar\"}],\"scattergeo\":[{\"type\":\"scattergeo\",\"marker\":{\"colorbar\":{\"outlinewidth\":0,\"ticks\":\"\"}}}],\"scatterpolar\":[{\"type\":\"scatterpolar\",\"marker\":{\"colorbar\":{\"outlinewidth\":0,\"ticks\":\"\"}}}],\"histogram\":[{\"marker\":{\"pattern\":{\"fillmode\":\"overlay\",\"size\":10,\"solidity\":0.2}},\"type\":\"histogram\"}],\"scattergl\":[{\"type\":\"scattergl\",\"marker\":{\"colorbar\":{\"outlinewidth\":0,\"ticks\":\"\"}}}],\"scatter3d\":[{\"type\":\"scatter3d\",\"line\":{\"colorbar\":{\"outlinewidth\":0,\"ticks\":\"\"}},\"marker\":{\"colorbar\":{\"outlinewidth\":0,\"ticks\":\"\"}}}],\"scattermapbox\":[{\"type\":\"scattermapbox\",\"marker\":{\"colorbar\":{\"outlinewidth\":0,\"ticks\":\"\"}}}],\"scatterternary\":[{\"type\":\"scatterternary\",\"marker\":{\"colorbar\":{\"outlinewidth\":0,\"ticks\":\"\"}}}],\"scattercarpet\":[{\"type\":\"scattercarpet\",\"marker\":{\"colorbar\":{\"outlinewidth\":0,\"ticks\":\"\"}}}],\"carpet\":[{\"aaxis\":{\"endlinecolor\":\"#2a3f5f\",\"gridcolor\":\"white\",\"linecolor\":\"white\",\"minorgridcolor\":\"white\",\"startlinecolor\":\"#2a3f5f\"},\"baxis\":{\"endlinecolor\":\"#2a3f5f\",\"gridcolor\":\"white\",\"linecolor\":\"white\",\"minorgridcolor\":\"white\",\"startlinecolor\":\"#2a3f5f\"},\"type\":\"carpet\"}],\"table\":[{\"cells\":{\"fill\":{\"color\":\"#EBF0F8\"},\"line\":{\"color\":\"white\"}},\"header\":{\"fill\":{\"color\":\"#C8D4E3\"},\"line\":{\"color\":\"white\"}},\"type\":\"table\"}],\"barpolar\":[{\"marker\":{\"line\":{\"color\":\"#E5ECF6\",\"width\":0.5},\"pattern\":{\"fillmode\":\"overlay\",\"size\":10,\"solidity\":0.2}},\"type\":\"barpolar\"}],\"pie\":[{\"automargin\":true,\"type\":\"pie\"}]},\"layout\":{\"autotypenumbers\":\"strict\",\"colorway\":[\"#636efa\",\"#EF553B\",\"#00cc96\",\"#ab63fa\",\"#FFA15A\",\"#19d3f3\",\"#FF6692\",\"#B6E880\",\"#FF97FF\",\"#FECB52\"],\"font\":{\"color\":\"#2a3f5f\"},\"hovermode\":\"closest\",\"hoverlabel\":{\"align\":\"left\"},\"paper_bgcolor\":\"white\",\"plot_bgcolor\":\"#E5ECF6\",\"polar\":{\"bgcolor\":\"#E5ECF6\",\"angularaxis\":{\"gridcolor\":\"white\",\"linecolor\":\"white\",\"ticks\":\"\"},\"radialaxis\":{\"gridcolor\":\"white\",\"linecolor\":\"white\",\"ticks\":\"\"}},\"ternary\":{\"bgcolor\":\"#E5ECF6\",\"aaxis\":{\"gridcolor\":\"white\",\"linecolor\":\"white\",\"ticks\":\"\"},\"baxis\":{\"gridcolor\":\"white\",\"linecolor\":\"white\",\"ticks\":\"\"},\"caxis\":{\"gridcolor\":\"white\",\"linecolor\":\"white\",\"ticks\":\"\"}},\"coloraxis\":{\"colorbar\":{\"outlinewidth\":0,\"ticks\":\"\"}},\"colorscale\":{\"sequential\":[[0.0,\"#0d0887\"],[0.1111111111111111,\"#46039f\"],[0.2222222222222222,\"#7201a8\"],[0.3333333333333333,\"#9c179e\"],[0.4444444444444444,\"#bd3786\"],[0.5555555555555556,\"#d8576b\"],[0.6666666666666666,\"#ed7953\"],[0.7777777777777778,\"#fb9f3a\"],[0.8888888888888888,\"#fdca26\"],[1.0,\"#f0f921\"]],\"sequentialminus\":[[0.0,\"#0d0887\"],[0.1111111111111111,\"#46039f\"],[0.2222222222222222,\"#7201a8\"],[0.3333333333333333,\"#9c179e\"],[0.4444444444444444,\"#bd3786\"],[0.5555555555555556,\"#d8576b\"],[0.6666666666666666,\"#ed7953\"],[0.7777777777777778,\"#fb9f3a\"],[0.8888888888888888,\"#fdca26\"],[1.0,\"#f0f921\"]],\"diverging\":[[0,\"#8e0152\"],[0.1,\"#c51b7d\"],[0.2,\"#de77ae\"],[0.3,\"#f1b6da\"],[0.4,\"#fde0ef\"],[0.5,\"#f7f7f7\"],[0.6,\"#e6f5d0\"],[0.7,\"#b8e186\"],[0.8,\"#7fbc41\"],[0.9,\"#4d9221\"],[1,\"#276419\"]]},\"xaxis\":{\"gridcolor\":\"white\",\"linecolor\":\"white\",\"ticks\":\"\",\"title\":{\"standoff\":15},\"zerolinecolor\":\"white\",\"automargin\":true,\"zerolinewidth\":2},\"yaxis\":{\"gridcolor\":\"white\",\"linecolor\":\"white\",\"ticks\":\"\",\"title\":{\"standoff\":15},\"zerolinecolor\":\"white\",\"automargin\":true,\"zerolinewidth\":2},\"scene\":{\"xaxis\":{\"backgroundcolor\":\"#E5ECF6\",\"gridcolor\":\"white\",\"linecolor\":\"white\",\"showbackground\":true,\"ticks\":\"\",\"zerolinecolor\":\"white\",\"gridwidth\":2},\"yaxis\":{\"backgroundcolor\":\"#E5ECF6\",\"gridcolor\":\"white\",\"linecolor\":\"white\",\"showbackground\":true,\"ticks\":\"\",\"zerolinecolor\":\"white\",\"gridwidth\":2},\"zaxis\":{\"backgroundcolor\":\"#E5ECF6\",\"gridcolor\":\"white\",\"linecolor\":\"white\",\"showbackground\":true,\"ticks\":\"\",\"zerolinecolor\":\"white\",\"gridwidth\":2}},\"shapedefaults\":{\"line\":{\"color\":\"#2a3f5f\"}},\"annotationdefaults\":{\"arrowcolor\":\"#2a3f5f\",\"arrowhead\":0,\"arrowwidth\":1},\"geo\":{\"bgcolor\":\"white\",\"landcolor\":\"#E5ECF6\",\"subunitcolor\":\"white\",\"showland\":true,\"showlakes\":true,\"lakecolor\":\"white\"},\"title\":{\"x\":0.05},\"mapbox\":{\"style\":\"light\"}}},\"geo\":{\"domain\":{\"x\":[0.0,1.0],\"y\":[0.0,1.0]},\"center\":{}},\"coloraxis\":{\"colorbar\":{\"title\":{\"text\":\"people_fully_vaccinated\"}},\"colorscale\":[[0.0,\"#440154\"],[0.1111111111111111,\"#482878\"],[0.2222222222222222,\"#3e4989\"],[0.3333333333333333,\"#31688e\"],[0.4444444444444444,\"#26828e\"],[0.5555555555555556,\"#1f9e89\"],[0.6666666666666666,\"#35b779\"],[0.7777777777777778,\"#6ece58\"],[0.8888888888888888,\"#b5de2b\"],[1.0,\"#fde725\"]]},\"legend\":{\"tracegroupgap\":0},\"title\":{\"text\":\"Percentage of Population Fully Vaccinated by Country\"}},                        {\"responsive\": true}                    ).then(function(){\n",
       "                            \n",
       "var gd = document.getElementById('67875238-8407-4265-a271-4bc9d9596a2f');\n",
       "var x = new MutationObserver(function (mutations, observer) {{\n",
       "        var display = window.getComputedStyle(gd).display;\n",
       "        if (!display || display === 'none') {{\n",
       "            console.log([gd, 'removed!']);\n",
       "            Plotly.purge(gd);\n",
       "            observer.disconnect();\n",
       "        }}\n",
       "}});\n",
       "\n",
       "// Listen for the removal of the full notebook cells\n",
       "var notebookContainer = gd.closest('#notebook-container');\n",
       "if (notebookContainer) {{\n",
       "    x.observe(notebookContainer, {childList: true});\n",
       "}}\n",
       "\n",
       "// Listen for the clearing of the current output cell\n",
       "var outputEl = gd.closest('.output');\n",
       "if (outputEl) {{\n",
       "    x.observe(outputEl, {childList: true});\n",
       "}}\n",
       "\n",
       "                        })                };                });            </script>        </div>"
      ]
     },
     "metadata": {},
     "output_type": "display_data"
    }
   ],
   "source": [
    "# Create choropleth of vaccination rates\n",
    "fig = px.choropleth(latest_data,\n",
    "                    locations=\"location\",\n",
    "                    locationmode='country names',\n",
    "                    color=\"people_fully_vaccinated\",\n",
    "                    hover_name=\"location\",\n",
    "                    hover_data=[\"total_cases\", \"total_deaths\"],\n",
    "                    color_continuous_scale=px.colors.sequential.Viridis,\n",
    "                    title=\"Percentage of Population Fully Vaccinated by Country\")\n",
    "fig.show()"
   ]
  },
  {
   "cell_type": "code",
   "execution_count": null,
   "id": "56367229-8196-45bd-a3f5-4c3375c58db4",
   "metadata": {},
   "outputs": [],
   "source": [
    "# INSIGHTS\n",
    "#  The data shows distinct waves of COVID-19 cases globally, with peaks corresponding to the emergence of new variants.\n",
    "#  Certain regions (like Europe and North America) experienced earlier and more severe outbreaks compared to others, though vaccination rates are now highest in these regions.\n",
    "# The analysis is limited by inconsistent testing and reporting practices across countries, particularly in the early stages of the pandemic."
   ]
  }
 ],
 "metadata": {
  "kernelspec": {
   "display_name": "anaconda-panel-2023.05-py310",
   "language": "python",
   "name": "conda-env-anaconda-panel-2023.05-py310-py"
  },
  "language_info": {
   "codemirror_mode": {
    "name": "ipython",
    "version": 3
   },
   "file_extension": ".py",
   "mimetype": "text/x-python",
   "name": "python",
   "nbconvert_exporter": "python",
   "pygments_lexer": "ipython3",
   "version": "3.11.5"
  }
 },
 "nbformat": 4,
 "nbformat_minor": 5
}
